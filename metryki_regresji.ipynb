{
  "nbformat": 4,
  "nbformat_minor": 0,
  "metadata": {
    "colab": {
      "provenance": [],
      "authorship_tag": "ABX9TyMUVy6YXwrlxkvdm/1Mfcru",
      "include_colab_link": true
    },
    "kernelspec": {
      "name": "python3",
      "display_name": "Python 3"
    },
    "language_info": {
      "name": "python"
    }
  },
  "cells": [
    {
      "cell_type": "markdown",
      "metadata": {
        "id": "view-in-github",
        "colab_type": "text"
      },
      "source": [
        "<a href=\"https://colab.research.google.com/github/JakubPac/kurs_data_science/blob/main/metryki_regresji.ipynb\" target=\"_parent\"><img src=\"https://colab.research.google.com/assets/colab-badge.svg\" alt=\"Open In Colab\"/></a>"
      ]
    },
    {
      "cell_type": "code",
      "execution_count": 1,
      "metadata": {
        "id": "oO37pPu0Y8TD"
      },
      "outputs": [],
      "source": [
        "import numpy as np\n",
        "import pandas as pd\n",
        "import plotly.express as px\n",
        "import plotly.graph_objects as go"
      ]
    },
    {
      "cell_type": "code",
      "source": [
        "y_true = 100 + 20 * np.random.randn(50)\n",
        "y_true"
      ],
      "metadata": {
        "colab": {
          "base_uri": "https://localhost:8080/"
        },
        "id": "1KP2R04WZHX_",
        "outputId": "630304c5-d9f3-4051-bde8-d745a9bac9a0"
      },
      "execution_count": 4,
      "outputs": [
        {
          "output_type": "execute_result",
          "data": {
            "text/plain": [
              "array([ 92.1376851 , 101.38704077,  77.70986748,  91.59183233,\n",
              "       100.5078919 ,  93.19867748, 112.0585859 , 107.28300464,\n",
              "        74.20009765, 113.13000203,  93.09401513, 112.0329567 ,\n",
              "        96.30494251,  75.86067708,  97.00322529,  99.07934736,\n",
              "       109.14898901,  57.3528631 , 111.14135518,  74.61634826,\n",
              "        94.91686284, 117.84210804,  74.05849623, 124.04228441,\n",
              "       129.36158158,  99.62771024, 115.29681172, 132.19676199,\n",
              "        77.94583313, 107.99648371,  54.52032123, 154.64717126,\n",
              "        74.56190608,  93.49849792, 103.90111563,  97.72004548,\n",
              "       118.67677104,  78.81934938, 108.96486081,  85.35834462,\n",
              "        73.87093933, 112.73001758,  90.72038864, 139.02565763,\n",
              "        96.52540653,  92.21857037, 106.67463595,  96.80400387,\n",
              "        80.6311678 , 117.03409353])"
            ]
          },
          "metadata": {},
          "execution_count": 4
        }
      ]
    },
    {
      "cell_type": "code",
      "source": [
        "y_pred = 100 + 10 * np.random.randn(50)\n",
        "y_pred"
      ],
      "metadata": {
        "colab": {
          "base_uri": "https://localhost:8080/"
        },
        "id": "AoVIlvPIZPX8",
        "outputId": "3597cded-5373-47d3-cec4-fb04449e82fa"
      },
      "execution_count": 5,
      "outputs": [
        {
          "output_type": "execute_result",
          "data": {
            "text/plain": [
              "array([ 95.30655099,  95.25511918, 116.66939598,  82.26223779,\n",
              "       109.77981193, 115.16196809, 110.90361137, 109.39890099,\n",
              "        97.85892319, 106.63869972,  96.61974716,  88.63572861,\n",
              "        87.12325737, 103.9747407 ,  88.65006229, 103.90662321,\n",
              "        97.85796932, 117.10140057,  92.70202134, 110.04477828,\n",
              "       103.73346982,  97.13860323,  91.53687264,  95.42021506,\n",
              "       117.83841737,  96.12220309,  87.19695336, 102.67095121,\n",
              "        75.8677748 , 101.91759824,  95.07478308, 111.34121767,\n",
              "       103.29517944,  96.50915709,  74.57209017, 109.52646552,\n",
              "       103.30049168, 105.02303595, 119.77396778, 110.65242087,\n",
              "        90.83193352,  77.67715354, 104.87573987, 100.28746696,\n",
              "        91.09995963, 124.85221907,  99.8317359 ,  83.63120022,\n",
              "       120.94355323,  97.62616489])"
            ]
          },
          "metadata": {},
          "execution_count": 5
        }
      ]
    },
    {
      "cell_type": "code",
      "source": [
        "results = pd.DataFrame({'y_true':y_true,'y_pred':y_pred})\n",
        "results.head(10)"
      ],
      "metadata": {
        "colab": {
          "base_uri": "https://localhost:8080/",
          "height": 362
        },
        "id": "1dcl2by-ZSVj",
        "outputId": "e262d382-a696-4361-e54b-4fb8e4ab4d97"
      },
      "execution_count": 8,
      "outputs": [
        {
          "output_type": "execute_result",
          "data": {
            "text/plain": [
              "       y_true      y_pred\n",
              "0   92.137685   95.306551\n",
              "1  101.387041   95.255119\n",
              "2   77.709867  116.669396\n",
              "3   91.591832   82.262238\n",
              "4  100.507892  109.779812\n",
              "5   93.198677  115.161968\n",
              "6  112.058586  110.903611\n",
              "7  107.283005  109.398901\n",
              "8   74.200098   97.858923\n",
              "9  113.130002  106.638700"
            ],
            "text/html": [
              "\n",
              "  <div id=\"df-99167c89-906b-4496-a7c5-95c396c34f65\" class=\"colab-df-container\">\n",
              "    <div>\n",
              "<style scoped>\n",
              "    .dataframe tbody tr th:only-of-type {\n",
              "        vertical-align: middle;\n",
              "    }\n",
              "\n",
              "    .dataframe tbody tr th {\n",
              "        vertical-align: top;\n",
              "    }\n",
              "\n",
              "    .dataframe thead th {\n",
              "        text-align: right;\n",
              "    }\n",
              "</style>\n",
              "<table border=\"1\" class=\"dataframe\">\n",
              "  <thead>\n",
              "    <tr style=\"text-align: right;\">\n",
              "      <th></th>\n",
              "      <th>y_true</th>\n",
              "      <th>y_pred</th>\n",
              "    </tr>\n",
              "  </thead>\n",
              "  <tbody>\n",
              "    <tr>\n",
              "      <th>0</th>\n",
              "      <td>92.137685</td>\n",
              "      <td>95.306551</td>\n",
              "    </tr>\n",
              "    <tr>\n",
              "      <th>1</th>\n",
              "      <td>101.387041</td>\n",
              "      <td>95.255119</td>\n",
              "    </tr>\n",
              "    <tr>\n",
              "      <th>2</th>\n",
              "      <td>77.709867</td>\n",
              "      <td>116.669396</td>\n",
              "    </tr>\n",
              "    <tr>\n",
              "      <th>3</th>\n",
              "      <td>91.591832</td>\n",
              "      <td>82.262238</td>\n",
              "    </tr>\n",
              "    <tr>\n",
              "      <th>4</th>\n",
              "      <td>100.507892</td>\n",
              "      <td>109.779812</td>\n",
              "    </tr>\n",
              "    <tr>\n",
              "      <th>5</th>\n",
              "      <td>93.198677</td>\n",
              "      <td>115.161968</td>\n",
              "    </tr>\n",
              "    <tr>\n",
              "      <th>6</th>\n",
              "      <td>112.058586</td>\n",
              "      <td>110.903611</td>\n",
              "    </tr>\n",
              "    <tr>\n",
              "      <th>7</th>\n",
              "      <td>107.283005</td>\n",
              "      <td>109.398901</td>\n",
              "    </tr>\n",
              "    <tr>\n",
              "      <th>8</th>\n",
              "      <td>74.200098</td>\n",
              "      <td>97.858923</td>\n",
              "    </tr>\n",
              "    <tr>\n",
              "      <th>9</th>\n",
              "      <td>113.130002</td>\n",
              "      <td>106.638700</td>\n",
              "    </tr>\n",
              "  </tbody>\n",
              "</table>\n",
              "</div>\n",
              "    <div class=\"colab-df-buttons\">\n",
              "\n",
              "  <div class=\"colab-df-container\">\n",
              "    <button class=\"colab-df-convert\" onclick=\"convertToInteractive('df-99167c89-906b-4496-a7c5-95c396c34f65')\"\n",
              "            title=\"Convert this dataframe to an interactive table.\"\n",
              "            style=\"display:none;\">\n",
              "\n",
              "  <svg xmlns=\"http://www.w3.org/2000/svg\" height=\"24px\" viewBox=\"0 -960 960 960\">\n",
              "    <path d=\"M120-120v-720h720v720H120Zm60-500h600v-160H180v160Zm220 220h160v-160H400v160Zm0 220h160v-160H400v160ZM180-400h160v-160H180v160Zm440 0h160v-160H620v160ZM180-180h160v-160H180v160Zm440 0h160v-160H620v160Z\"/>\n",
              "  </svg>\n",
              "    </button>\n",
              "\n",
              "  <style>\n",
              "    .colab-df-container {\n",
              "      display:flex;\n",
              "      gap: 12px;\n",
              "    }\n",
              "\n",
              "    .colab-df-convert {\n",
              "      background-color: #E8F0FE;\n",
              "      border: none;\n",
              "      border-radius: 50%;\n",
              "      cursor: pointer;\n",
              "      display: none;\n",
              "      fill: #1967D2;\n",
              "      height: 32px;\n",
              "      padding: 0 0 0 0;\n",
              "      width: 32px;\n",
              "    }\n",
              "\n",
              "    .colab-df-convert:hover {\n",
              "      background-color: #E2EBFA;\n",
              "      box-shadow: 0px 1px 2px rgba(60, 64, 67, 0.3), 0px 1px 3px 1px rgba(60, 64, 67, 0.15);\n",
              "      fill: #174EA6;\n",
              "    }\n",
              "\n",
              "    .colab-df-buttons div {\n",
              "      margin-bottom: 4px;\n",
              "    }\n",
              "\n",
              "    [theme=dark] .colab-df-convert {\n",
              "      background-color: #3B4455;\n",
              "      fill: #D2E3FC;\n",
              "    }\n",
              "\n",
              "    [theme=dark] .colab-df-convert:hover {\n",
              "      background-color: #434B5C;\n",
              "      box-shadow: 0px 1px 3px 1px rgba(0, 0, 0, 0.15);\n",
              "      filter: drop-shadow(0px 1px 2px rgba(0, 0, 0, 0.3));\n",
              "      fill: #FFFFFF;\n",
              "    }\n",
              "  </style>\n",
              "\n",
              "    <script>\n",
              "      const buttonEl =\n",
              "        document.querySelector('#df-99167c89-906b-4496-a7c5-95c396c34f65 button.colab-df-convert');\n",
              "      buttonEl.style.display =\n",
              "        google.colab.kernel.accessAllowed ? 'block' : 'none';\n",
              "\n",
              "      async function convertToInteractive(key) {\n",
              "        const element = document.querySelector('#df-99167c89-906b-4496-a7c5-95c396c34f65');\n",
              "        const dataTable =\n",
              "          await google.colab.kernel.invokeFunction('convertToInteractive',\n",
              "                                                    [key], {});\n",
              "        if (!dataTable) return;\n",
              "\n",
              "        const docLinkHtml = 'Like what you see? Visit the ' +\n",
              "          '<a target=\"_blank\" href=https://colab.research.google.com/notebooks/data_table.ipynb>data table notebook</a>'\n",
              "          + ' to learn more about interactive tables.';\n",
              "        element.innerHTML = '';\n",
              "        dataTable['output_type'] = 'display_data';\n",
              "        await google.colab.output.renderOutput(dataTable, element);\n",
              "        const docLink = document.createElement('div');\n",
              "        docLink.innerHTML = docLinkHtml;\n",
              "        element.appendChild(docLink);\n",
              "      }\n",
              "    </script>\n",
              "  </div>\n",
              "\n",
              "\n",
              "    <div id=\"df-30a54923-3bba-490b-bd79-b7e38873dbd3\">\n",
              "      <button class=\"colab-df-quickchart\" onclick=\"quickchart('df-30a54923-3bba-490b-bd79-b7e38873dbd3')\"\n",
              "                title=\"Suggest charts\"\n",
              "                style=\"display:none;\">\n",
              "\n",
              "<svg xmlns=\"http://www.w3.org/2000/svg\" height=\"24px\"viewBox=\"0 0 24 24\"\n",
              "     width=\"24px\">\n",
              "    <g>\n",
              "        <path d=\"M19 3H5c-1.1 0-2 .9-2 2v14c0 1.1.9 2 2 2h14c1.1 0 2-.9 2-2V5c0-1.1-.9-2-2-2zM9 17H7v-7h2v7zm4 0h-2V7h2v10zm4 0h-2v-4h2v4z\"/>\n",
              "    </g>\n",
              "</svg>\n",
              "      </button>\n",
              "\n",
              "<style>\n",
              "  .colab-df-quickchart {\n",
              "      --bg-color: #E8F0FE;\n",
              "      --fill-color: #1967D2;\n",
              "      --hover-bg-color: #E2EBFA;\n",
              "      --hover-fill-color: #174EA6;\n",
              "      --disabled-fill-color: #AAA;\n",
              "      --disabled-bg-color: #DDD;\n",
              "  }\n",
              "\n",
              "  [theme=dark] .colab-df-quickchart {\n",
              "      --bg-color: #3B4455;\n",
              "      --fill-color: #D2E3FC;\n",
              "      --hover-bg-color: #434B5C;\n",
              "      --hover-fill-color: #FFFFFF;\n",
              "      --disabled-bg-color: #3B4455;\n",
              "      --disabled-fill-color: #666;\n",
              "  }\n",
              "\n",
              "  .colab-df-quickchart {\n",
              "    background-color: var(--bg-color);\n",
              "    border: none;\n",
              "    border-radius: 50%;\n",
              "    cursor: pointer;\n",
              "    display: none;\n",
              "    fill: var(--fill-color);\n",
              "    height: 32px;\n",
              "    padding: 0;\n",
              "    width: 32px;\n",
              "  }\n",
              "\n",
              "  .colab-df-quickchart:hover {\n",
              "    background-color: var(--hover-bg-color);\n",
              "    box-shadow: 0 1px 2px rgba(60, 64, 67, 0.3), 0 1px 3px 1px rgba(60, 64, 67, 0.15);\n",
              "    fill: var(--button-hover-fill-color);\n",
              "  }\n",
              "\n",
              "  .colab-df-quickchart-complete:disabled,\n",
              "  .colab-df-quickchart-complete:disabled:hover {\n",
              "    background-color: var(--disabled-bg-color);\n",
              "    fill: var(--disabled-fill-color);\n",
              "    box-shadow: none;\n",
              "  }\n",
              "\n",
              "  .colab-df-spinner {\n",
              "    border: 2px solid var(--fill-color);\n",
              "    border-color: transparent;\n",
              "    border-bottom-color: var(--fill-color);\n",
              "    animation:\n",
              "      spin 1s steps(1) infinite;\n",
              "  }\n",
              "\n",
              "  @keyframes spin {\n",
              "    0% {\n",
              "      border-color: transparent;\n",
              "      border-bottom-color: var(--fill-color);\n",
              "      border-left-color: var(--fill-color);\n",
              "    }\n",
              "    20% {\n",
              "      border-color: transparent;\n",
              "      border-left-color: var(--fill-color);\n",
              "      border-top-color: var(--fill-color);\n",
              "    }\n",
              "    30% {\n",
              "      border-color: transparent;\n",
              "      border-left-color: var(--fill-color);\n",
              "      border-top-color: var(--fill-color);\n",
              "      border-right-color: var(--fill-color);\n",
              "    }\n",
              "    40% {\n",
              "      border-color: transparent;\n",
              "      border-right-color: var(--fill-color);\n",
              "      border-top-color: var(--fill-color);\n",
              "    }\n",
              "    60% {\n",
              "      border-color: transparent;\n",
              "      border-right-color: var(--fill-color);\n",
              "    }\n",
              "    80% {\n",
              "      border-color: transparent;\n",
              "      border-right-color: var(--fill-color);\n",
              "      border-bottom-color: var(--fill-color);\n",
              "    }\n",
              "    90% {\n",
              "      border-color: transparent;\n",
              "      border-bottom-color: var(--fill-color);\n",
              "    }\n",
              "  }\n",
              "</style>\n",
              "\n",
              "      <script>\n",
              "        async function quickchart(key) {\n",
              "          const quickchartButtonEl =\n",
              "            document.querySelector('#' + key + ' button');\n",
              "          quickchartButtonEl.disabled = true;  // To prevent multiple clicks.\n",
              "          quickchartButtonEl.classList.add('colab-df-spinner');\n",
              "          try {\n",
              "            const charts = await google.colab.kernel.invokeFunction(\n",
              "                'suggestCharts', [key], {});\n",
              "          } catch (error) {\n",
              "            console.error('Error during call to suggestCharts:', error);\n",
              "          }\n",
              "          quickchartButtonEl.classList.remove('colab-df-spinner');\n",
              "          quickchartButtonEl.classList.add('colab-df-quickchart-complete');\n",
              "        }\n",
              "        (() => {\n",
              "          let quickchartButtonEl =\n",
              "            document.querySelector('#df-30a54923-3bba-490b-bd79-b7e38873dbd3 button');\n",
              "          quickchartButtonEl.style.display =\n",
              "            google.colab.kernel.accessAllowed ? 'block' : 'none';\n",
              "        })();\n",
              "      </script>\n",
              "    </div>\n",
              "\n",
              "    </div>\n",
              "  </div>\n"
            ],
            "application/vnd.google.colaboratory.intrinsic+json": {
              "type": "dataframe",
              "variable_name": "results",
              "summary": "{\n  \"name\": \"results\",\n  \"rows\": 50,\n  \"fields\": [\n    {\n      \"column\": \"y_true\",\n      \"properties\": {\n        \"dtype\": \"number\",\n        \"std\": 19.944411194288964,\n        \"min\": 54.52032123098169,\n        \"max\": 154.64717126229954,\n        \"num_unique_values\": 50,\n        \"samples\": [\n          75.86067708029191,\n          85.35834462471786,\n          54.52032123098169\n        ],\n        \"semantic_type\": \"\",\n        \"description\": \"\"\n      }\n    },\n    {\n      \"column\": \"y_pred\",\n      \"properties\": {\n        \"dtype\": \"number\",\n        \"std\": 11.784645485586898,\n        \"min\": 74.57209017073362,\n        \"max\": 124.85221906530498,\n        \"num_unique_values\": 50,\n        \"samples\": [\n          103.97474070048807,\n          110.65242087128077,\n          95.0747830810884\n        ],\n        \"semantic_type\": \"\",\n        \"description\": \"\"\n      }\n    }\n  ]\n}"
            }
          },
          "metadata": {},
          "execution_count": 8
        }
      ]
    },
    {
      "cell_type": "code",
      "source": [
        "results['error'] = results['y_true'] - results['y_pred']\n",
        "results.head()"
      ],
      "metadata": {
        "colab": {
          "base_uri": "https://localhost:8080/",
          "height": 206
        },
        "id": "uEMJb5SvZjxc",
        "outputId": "539a6889-1871-42bb-f4cb-64016f810691"
      },
      "execution_count": 9,
      "outputs": [
        {
          "output_type": "execute_result",
          "data": {
            "text/plain": [
              "       y_true      y_pred      error\n",
              "0   92.137685   95.306551  -3.168866\n",
              "1  101.387041   95.255119   6.131922\n",
              "2   77.709867  116.669396 -38.959529\n",
              "3   91.591832   82.262238   9.329595\n",
              "4  100.507892  109.779812  -9.271920"
            ],
            "text/html": [
              "\n",
              "  <div id=\"df-5a64dd87-620f-4052-9a6d-ec3be7070b0f\" class=\"colab-df-container\">\n",
              "    <div>\n",
              "<style scoped>\n",
              "    .dataframe tbody tr th:only-of-type {\n",
              "        vertical-align: middle;\n",
              "    }\n",
              "\n",
              "    .dataframe tbody tr th {\n",
              "        vertical-align: top;\n",
              "    }\n",
              "\n",
              "    .dataframe thead th {\n",
              "        text-align: right;\n",
              "    }\n",
              "</style>\n",
              "<table border=\"1\" class=\"dataframe\">\n",
              "  <thead>\n",
              "    <tr style=\"text-align: right;\">\n",
              "      <th></th>\n",
              "      <th>y_true</th>\n",
              "      <th>y_pred</th>\n",
              "      <th>error</th>\n",
              "    </tr>\n",
              "  </thead>\n",
              "  <tbody>\n",
              "    <tr>\n",
              "      <th>0</th>\n",
              "      <td>92.137685</td>\n",
              "      <td>95.306551</td>\n",
              "      <td>-3.168866</td>\n",
              "    </tr>\n",
              "    <tr>\n",
              "      <th>1</th>\n",
              "      <td>101.387041</td>\n",
              "      <td>95.255119</td>\n",
              "      <td>6.131922</td>\n",
              "    </tr>\n",
              "    <tr>\n",
              "      <th>2</th>\n",
              "      <td>77.709867</td>\n",
              "      <td>116.669396</td>\n",
              "      <td>-38.959529</td>\n",
              "    </tr>\n",
              "    <tr>\n",
              "      <th>3</th>\n",
              "      <td>91.591832</td>\n",
              "      <td>82.262238</td>\n",
              "      <td>9.329595</td>\n",
              "    </tr>\n",
              "    <tr>\n",
              "      <th>4</th>\n",
              "      <td>100.507892</td>\n",
              "      <td>109.779812</td>\n",
              "      <td>-9.271920</td>\n",
              "    </tr>\n",
              "  </tbody>\n",
              "</table>\n",
              "</div>\n",
              "    <div class=\"colab-df-buttons\">\n",
              "\n",
              "  <div class=\"colab-df-container\">\n",
              "    <button class=\"colab-df-convert\" onclick=\"convertToInteractive('df-5a64dd87-620f-4052-9a6d-ec3be7070b0f')\"\n",
              "            title=\"Convert this dataframe to an interactive table.\"\n",
              "            style=\"display:none;\">\n",
              "\n",
              "  <svg xmlns=\"http://www.w3.org/2000/svg\" height=\"24px\" viewBox=\"0 -960 960 960\">\n",
              "    <path d=\"M120-120v-720h720v720H120Zm60-500h600v-160H180v160Zm220 220h160v-160H400v160Zm0 220h160v-160H400v160ZM180-400h160v-160H180v160Zm440 0h160v-160H620v160ZM180-180h160v-160H180v160Zm440 0h160v-160H620v160Z\"/>\n",
              "  </svg>\n",
              "    </button>\n",
              "\n",
              "  <style>\n",
              "    .colab-df-container {\n",
              "      display:flex;\n",
              "      gap: 12px;\n",
              "    }\n",
              "\n",
              "    .colab-df-convert {\n",
              "      background-color: #E8F0FE;\n",
              "      border: none;\n",
              "      border-radius: 50%;\n",
              "      cursor: pointer;\n",
              "      display: none;\n",
              "      fill: #1967D2;\n",
              "      height: 32px;\n",
              "      padding: 0 0 0 0;\n",
              "      width: 32px;\n",
              "    }\n",
              "\n",
              "    .colab-df-convert:hover {\n",
              "      background-color: #E2EBFA;\n",
              "      box-shadow: 0px 1px 2px rgba(60, 64, 67, 0.3), 0px 1px 3px 1px rgba(60, 64, 67, 0.15);\n",
              "      fill: #174EA6;\n",
              "    }\n",
              "\n",
              "    .colab-df-buttons div {\n",
              "      margin-bottom: 4px;\n",
              "    }\n",
              "\n",
              "    [theme=dark] .colab-df-convert {\n",
              "      background-color: #3B4455;\n",
              "      fill: #D2E3FC;\n",
              "    }\n",
              "\n",
              "    [theme=dark] .colab-df-convert:hover {\n",
              "      background-color: #434B5C;\n",
              "      box-shadow: 0px 1px 3px 1px rgba(0, 0, 0, 0.15);\n",
              "      filter: drop-shadow(0px 1px 2px rgba(0, 0, 0, 0.3));\n",
              "      fill: #FFFFFF;\n",
              "    }\n",
              "  </style>\n",
              "\n",
              "    <script>\n",
              "      const buttonEl =\n",
              "        document.querySelector('#df-5a64dd87-620f-4052-9a6d-ec3be7070b0f button.colab-df-convert');\n",
              "      buttonEl.style.display =\n",
              "        google.colab.kernel.accessAllowed ? 'block' : 'none';\n",
              "\n",
              "      async function convertToInteractive(key) {\n",
              "        const element = document.querySelector('#df-5a64dd87-620f-4052-9a6d-ec3be7070b0f');\n",
              "        const dataTable =\n",
              "          await google.colab.kernel.invokeFunction('convertToInteractive',\n",
              "                                                    [key], {});\n",
              "        if (!dataTable) return;\n",
              "\n",
              "        const docLinkHtml = 'Like what you see? Visit the ' +\n",
              "          '<a target=\"_blank\" href=https://colab.research.google.com/notebooks/data_table.ipynb>data table notebook</a>'\n",
              "          + ' to learn more about interactive tables.';\n",
              "        element.innerHTML = '';\n",
              "        dataTable['output_type'] = 'display_data';\n",
              "        await google.colab.output.renderOutput(dataTable, element);\n",
              "        const docLink = document.createElement('div');\n",
              "        docLink.innerHTML = docLinkHtml;\n",
              "        element.appendChild(docLink);\n",
              "      }\n",
              "    </script>\n",
              "  </div>\n",
              "\n",
              "\n",
              "    <div id=\"df-010cb5d0-10c7-4c99-9f37-f1a8baf1e839\">\n",
              "      <button class=\"colab-df-quickchart\" onclick=\"quickchart('df-010cb5d0-10c7-4c99-9f37-f1a8baf1e839')\"\n",
              "                title=\"Suggest charts\"\n",
              "                style=\"display:none;\">\n",
              "\n",
              "<svg xmlns=\"http://www.w3.org/2000/svg\" height=\"24px\"viewBox=\"0 0 24 24\"\n",
              "     width=\"24px\">\n",
              "    <g>\n",
              "        <path d=\"M19 3H5c-1.1 0-2 .9-2 2v14c0 1.1.9 2 2 2h14c1.1 0 2-.9 2-2V5c0-1.1-.9-2-2-2zM9 17H7v-7h2v7zm4 0h-2V7h2v10zm4 0h-2v-4h2v4z\"/>\n",
              "    </g>\n",
              "</svg>\n",
              "      </button>\n",
              "\n",
              "<style>\n",
              "  .colab-df-quickchart {\n",
              "      --bg-color: #E8F0FE;\n",
              "      --fill-color: #1967D2;\n",
              "      --hover-bg-color: #E2EBFA;\n",
              "      --hover-fill-color: #174EA6;\n",
              "      --disabled-fill-color: #AAA;\n",
              "      --disabled-bg-color: #DDD;\n",
              "  }\n",
              "\n",
              "  [theme=dark] .colab-df-quickchart {\n",
              "      --bg-color: #3B4455;\n",
              "      --fill-color: #D2E3FC;\n",
              "      --hover-bg-color: #434B5C;\n",
              "      --hover-fill-color: #FFFFFF;\n",
              "      --disabled-bg-color: #3B4455;\n",
              "      --disabled-fill-color: #666;\n",
              "  }\n",
              "\n",
              "  .colab-df-quickchart {\n",
              "    background-color: var(--bg-color);\n",
              "    border: none;\n",
              "    border-radius: 50%;\n",
              "    cursor: pointer;\n",
              "    display: none;\n",
              "    fill: var(--fill-color);\n",
              "    height: 32px;\n",
              "    padding: 0;\n",
              "    width: 32px;\n",
              "  }\n",
              "\n",
              "  .colab-df-quickchart:hover {\n",
              "    background-color: var(--hover-bg-color);\n",
              "    box-shadow: 0 1px 2px rgba(60, 64, 67, 0.3), 0 1px 3px 1px rgba(60, 64, 67, 0.15);\n",
              "    fill: var(--button-hover-fill-color);\n",
              "  }\n",
              "\n",
              "  .colab-df-quickchart-complete:disabled,\n",
              "  .colab-df-quickchart-complete:disabled:hover {\n",
              "    background-color: var(--disabled-bg-color);\n",
              "    fill: var(--disabled-fill-color);\n",
              "    box-shadow: none;\n",
              "  }\n",
              "\n",
              "  .colab-df-spinner {\n",
              "    border: 2px solid var(--fill-color);\n",
              "    border-color: transparent;\n",
              "    border-bottom-color: var(--fill-color);\n",
              "    animation:\n",
              "      spin 1s steps(1) infinite;\n",
              "  }\n",
              "\n",
              "  @keyframes spin {\n",
              "    0% {\n",
              "      border-color: transparent;\n",
              "      border-bottom-color: var(--fill-color);\n",
              "      border-left-color: var(--fill-color);\n",
              "    }\n",
              "    20% {\n",
              "      border-color: transparent;\n",
              "      border-left-color: var(--fill-color);\n",
              "      border-top-color: var(--fill-color);\n",
              "    }\n",
              "    30% {\n",
              "      border-color: transparent;\n",
              "      border-left-color: var(--fill-color);\n",
              "      border-top-color: var(--fill-color);\n",
              "      border-right-color: var(--fill-color);\n",
              "    }\n",
              "    40% {\n",
              "      border-color: transparent;\n",
              "      border-right-color: var(--fill-color);\n",
              "      border-top-color: var(--fill-color);\n",
              "    }\n",
              "    60% {\n",
              "      border-color: transparent;\n",
              "      border-right-color: var(--fill-color);\n",
              "    }\n",
              "    80% {\n",
              "      border-color: transparent;\n",
              "      border-right-color: var(--fill-color);\n",
              "      border-bottom-color: var(--fill-color);\n",
              "    }\n",
              "    90% {\n",
              "      border-color: transparent;\n",
              "      border-bottom-color: var(--fill-color);\n",
              "    }\n",
              "  }\n",
              "</style>\n",
              "\n",
              "      <script>\n",
              "        async function quickchart(key) {\n",
              "          const quickchartButtonEl =\n",
              "            document.querySelector('#' + key + ' button');\n",
              "          quickchartButtonEl.disabled = true;  // To prevent multiple clicks.\n",
              "          quickchartButtonEl.classList.add('colab-df-spinner');\n",
              "          try {\n",
              "            const charts = await google.colab.kernel.invokeFunction(\n",
              "                'suggestCharts', [key], {});\n",
              "          } catch (error) {\n",
              "            console.error('Error during call to suggestCharts:', error);\n",
              "          }\n",
              "          quickchartButtonEl.classList.remove('colab-df-spinner');\n",
              "          quickchartButtonEl.classList.add('colab-df-quickchart-complete');\n",
              "        }\n",
              "        (() => {\n",
              "          let quickchartButtonEl =\n",
              "            document.querySelector('#df-010cb5d0-10c7-4c99-9f37-f1a8baf1e839 button');\n",
              "          quickchartButtonEl.style.display =\n",
              "            google.colab.kernel.accessAllowed ? 'block' : 'none';\n",
              "        })();\n",
              "      </script>\n",
              "    </div>\n",
              "\n",
              "    </div>\n",
              "  </div>\n"
            ],
            "application/vnd.google.colaboratory.intrinsic+json": {
              "type": "dataframe",
              "variable_name": "results",
              "summary": "{\n  \"name\": \"results\",\n  \"rows\": 50,\n  \"fields\": [\n    {\n      \"column\": \"y_true\",\n      \"properties\": {\n        \"dtype\": \"number\",\n        \"std\": 19.944411194288964,\n        \"min\": 54.52032123098169,\n        \"max\": 154.64717126229954,\n        \"num_unique_values\": 50,\n        \"samples\": [\n          75.86067708029191,\n          85.35834462471786,\n          54.52032123098169\n        ],\n        \"semantic_type\": \"\",\n        \"description\": \"\"\n      }\n    },\n    {\n      \"column\": \"y_pred\",\n      \"properties\": {\n        \"dtype\": \"number\",\n        \"std\": 11.784645485586898,\n        \"min\": 74.57209017073362,\n        \"max\": 124.85221906530498,\n        \"num_unique_values\": 50,\n        \"samples\": [\n          103.97474070048807,\n          110.65242087128077,\n          95.0747830810884\n        ],\n        \"semantic_type\": \"\",\n        \"description\": \"\"\n      }\n    },\n    {\n      \"column\": \"error\",\n      \"properties\": {\n        \"dtype\": \"number\",\n        \"std\": 23.28918432509316,\n        \"min\": -59.74853746975592,\n        \"max\": 43.305953594299254,\n        \"num_unique_values\": 50,\n        \"samples\": [\n          -28.114063620196163,\n          -25.29407624656291,\n          -40.554461850106705\n        ],\n        \"semantic_type\": \"\",\n        \"description\": \"\"\n      }\n    }\n  ]\n}"
            }
          },
          "metadata": {},
          "execution_count": 9
        }
      ]
    },
    {
      "cell_type": "code",
      "source": [
        "def plot_regression_results(y_true, y_pred):\n",
        "    results = pd.DataFrame({'y_true': y_true, 'y_pred': y_pred})\n",
        "    min = results[['y_true', 'y_pred']].min().min()\n",
        "    max = results[['y_true', 'y_pred']].max().max()\n",
        "\n",
        "    fig = go.Figure(data=[go.Scatter(x=results['y_true'], y=results['y_pred'], mode='markers'),\n",
        "                    go.Scatter(x=[min, max], y=[min, max])],\n",
        "                    layout=go.Layout(showlegend=False, width=600, height=400,\n",
        "                                     xaxis_title='y_true',\n",
        "                                     yaxis_title='y_pred',\n",
        "                                     title='Regression results'))\n",
        "    fig.show()\n",
        "plot_regression_results(y_true, y_pred)"
      ],
      "metadata": {
        "colab": {
          "base_uri": "https://localhost:8080/",
          "height": 417
        },
        "id": "FAhmWabtZw-A",
        "outputId": "deddd8df-0aa1-42a1-85e4-c5f37e01edc3"
      },
      "execution_count": 12,
      "outputs": [
        {
          "output_type": "display_data",
          "data": {
            "text/html": [
              "<html>\n",
              "<head><meta charset=\"utf-8\" /></head>\n",
              "<body>\n",
              "    <div>            <script src=\"https://cdnjs.cloudflare.com/ajax/libs/mathjax/2.7.5/MathJax.js?config=TeX-AMS-MML_SVG\"></script><script type=\"text/javascript\">if (window.MathJax && window.MathJax.Hub && window.MathJax.Hub.Config) {window.MathJax.Hub.Config({SVG: {font: \"STIX-Web\"}});}</script>                <script type=\"text/javascript\">window.PlotlyConfig = {MathJaxConfig: 'local'};</script>\n",
              "        <script charset=\"utf-8\" src=\"https://cdn.plot.ly/plotly-2.35.2.min.js\"></script>                <div id=\"6f30ca98-4339-4ed7-8d65-bb180d9f72d5\" class=\"plotly-graph-div\" style=\"height:400px; width:600px;\"></div>            <script type=\"text/javascript\">                                    window.PLOTLYENV=window.PLOTLYENV || {};                                    if (document.getElementById(\"6f30ca98-4339-4ed7-8d65-bb180d9f72d5\")) {                    Plotly.newPlot(                        \"6f30ca98-4339-4ed7-8d65-bb180d9f72d5\",                        [{\"mode\":\"markers\",\"x\":[92.13768510271561,101.38704076533176,77.70986747920932,91.59183232859564,100.50789189798137,93.19867747927917,112.05858589832869,107.28300463947068,74.20009765451064,113.13000202673425,93.09401512780633,112.03295670090473,96.30494251143216,75.86067708029191,97.0032252924168,99.07934735769979,109.14898900573587,57.35286309754814,111.14135518291184,74.61634826344805,94.91686284450833,117.84210803687218,74.05849623470868,124.04228440839623,129.36158158144775,99.62771024367981,115.29681171678325,132.19676198849993,77.94583312542397,107.99648370840197,54.52032123098169,154.64717126229954,74.56190607865042,93.49849791941713,103.90111563191061,97.72004548392499,118.67677103558266,78.81934937780859,108.96486081021504,85.35834462471786,73.87093932901966,112.73001757510048,90.72038864127173,139.025657634899,96.5254065257855,92.21857037002985,106.67463594676461,96.80400386590613,80.63116780101939,117.03409353082725],\"y\":[95.30655098968123,95.25511917507602,116.66939597932011,82.26223778545256,109.77981193263767,115.16196808850837,110.9036113739427,109.39890099055245,97.85892319139235,106.63869972180933,96.61974716062176,88.63572861294867,87.12325736667147,103.97474070048807,88.65006228594181,103.9066232128873,97.85796932332978,117.10140056730405,92.70202133643552,110.04477828119472,103.7334698202765,97.13860323453292,91.5368726430648,95.42021505553065,117.83841737039232,96.12220309064635,87.19695335750907,102.67095120666451,75.86777479847562,101.91759823743638,95.0747830810884,111.34121766800028,103.2951794395184,96.50915708776368,74.57209017073362,109.52646552055305,103.30049168246565,105.0230359532973,119.77396778395911,110.65242087128077,90.83193351758534,77.67715354315983,104.87573986839283,100.28746695670328,91.09995963289434,124.85221906530498,99.83173590033655,83.63120022148983,120.94355323260598,97.62616488539486],\"type\":\"scatter\"},{\"x\":[54.52032123098169,154.64717126229954],\"y\":[54.52032123098169,154.64717126229954],\"type\":\"scatter\"}],                        {\"height\":400,\"showlegend\":false,\"title\":{\"text\":\"Regression results\"},\"width\":600,\"xaxis\":{\"title\":{\"text\":\"y_true\"}},\"yaxis\":{\"title\":{\"text\":\"y_pred\"}},\"template\":{\"data\":{\"histogram2dcontour\":[{\"type\":\"histogram2dcontour\",\"colorbar\":{\"outlinewidth\":0,\"ticks\":\"\"},\"colorscale\":[[0.0,\"#0d0887\"],[0.1111111111111111,\"#46039f\"],[0.2222222222222222,\"#7201a8\"],[0.3333333333333333,\"#9c179e\"],[0.4444444444444444,\"#bd3786\"],[0.5555555555555556,\"#d8576b\"],[0.6666666666666666,\"#ed7953\"],[0.7777777777777778,\"#fb9f3a\"],[0.8888888888888888,\"#fdca26\"],[1.0,\"#f0f921\"]]}],\"choropleth\":[{\"type\":\"choropleth\",\"colorbar\":{\"outlinewidth\":0,\"ticks\":\"\"}}],\"histogram2d\":[{\"type\":\"histogram2d\",\"colorbar\":{\"outlinewidth\":0,\"ticks\":\"\"},\"colorscale\":[[0.0,\"#0d0887\"],[0.1111111111111111,\"#46039f\"],[0.2222222222222222,\"#7201a8\"],[0.3333333333333333,\"#9c179e\"],[0.4444444444444444,\"#bd3786\"],[0.5555555555555556,\"#d8576b\"],[0.6666666666666666,\"#ed7953\"],[0.7777777777777778,\"#fb9f3a\"],[0.8888888888888888,\"#fdca26\"],[1.0,\"#f0f921\"]]}],\"heatmap\":[{\"type\":\"heatmap\",\"colorbar\":{\"outlinewidth\":0,\"ticks\":\"\"},\"colorscale\":[[0.0,\"#0d0887\"],[0.1111111111111111,\"#46039f\"],[0.2222222222222222,\"#7201a8\"],[0.3333333333333333,\"#9c179e\"],[0.4444444444444444,\"#bd3786\"],[0.5555555555555556,\"#d8576b\"],[0.6666666666666666,\"#ed7953\"],[0.7777777777777778,\"#fb9f3a\"],[0.8888888888888888,\"#fdca26\"],[1.0,\"#f0f921\"]]}],\"heatmapgl\":[{\"type\":\"heatmapgl\",\"colorbar\":{\"outlinewidth\":0,\"ticks\":\"\"},\"colorscale\":[[0.0,\"#0d0887\"],[0.1111111111111111,\"#46039f\"],[0.2222222222222222,\"#7201a8\"],[0.3333333333333333,\"#9c179e\"],[0.4444444444444444,\"#bd3786\"],[0.5555555555555556,\"#d8576b\"],[0.6666666666666666,\"#ed7953\"],[0.7777777777777778,\"#fb9f3a\"],[0.8888888888888888,\"#fdca26\"],[1.0,\"#f0f921\"]]}],\"contourcarpet\":[{\"type\":\"contourcarpet\",\"colorbar\":{\"outlinewidth\":0,\"ticks\":\"\"}}],\"contour\":[{\"type\":\"contour\",\"colorbar\":{\"outlinewidth\":0,\"ticks\":\"\"},\"colorscale\":[[0.0,\"#0d0887\"],[0.1111111111111111,\"#46039f\"],[0.2222222222222222,\"#7201a8\"],[0.3333333333333333,\"#9c179e\"],[0.4444444444444444,\"#bd3786\"],[0.5555555555555556,\"#d8576b\"],[0.6666666666666666,\"#ed7953\"],[0.7777777777777778,\"#fb9f3a\"],[0.8888888888888888,\"#fdca26\"],[1.0,\"#f0f921\"]]}],\"surface\":[{\"type\":\"surface\",\"colorbar\":{\"outlinewidth\":0,\"ticks\":\"\"},\"colorscale\":[[0.0,\"#0d0887\"],[0.1111111111111111,\"#46039f\"],[0.2222222222222222,\"#7201a8\"],[0.3333333333333333,\"#9c179e\"],[0.4444444444444444,\"#bd3786\"],[0.5555555555555556,\"#d8576b\"],[0.6666666666666666,\"#ed7953\"],[0.7777777777777778,\"#fb9f3a\"],[0.8888888888888888,\"#fdca26\"],[1.0,\"#f0f921\"]]}],\"mesh3d\":[{\"type\":\"mesh3d\",\"colorbar\":{\"outlinewidth\":0,\"ticks\":\"\"}}],\"scatter\":[{\"fillpattern\":{\"fillmode\":\"overlay\",\"size\":10,\"solidity\":0.2},\"type\":\"scatter\"}],\"parcoords\":[{\"type\":\"parcoords\",\"line\":{\"colorbar\":{\"outlinewidth\":0,\"ticks\":\"\"}}}],\"scatterpolargl\":[{\"type\":\"scatterpolargl\",\"marker\":{\"colorbar\":{\"outlinewidth\":0,\"ticks\":\"\"}}}],\"bar\":[{\"error_x\":{\"color\":\"#2a3f5f\"},\"error_y\":{\"color\":\"#2a3f5f\"},\"marker\":{\"line\":{\"color\":\"#E5ECF6\",\"width\":0.5},\"pattern\":{\"fillmode\":\"overlay\",\"size\":10,\"solidity\":0.2}},\"type\":\"bar\"}],\"scattergeo\":[{\"type\":\"scattergeo\",\"marker\":{\"colorbar\":{\"outlinewidth\":0,\"ticks\":\"\"}}}],\"scatterpolar\":[{\"type\":\"scatterpolar\",\"marker\":{\"colorbar\":{\"outlinewidth\":0,\"ticks\":\"\"}}}],\"histogram\":[{\"marker\":{\"pattern\":{\"fillmode\":\"overlay\",\"size\":10,\"solidity\":0.2}},\"type\":\"histogram\"}],\"scattergl\":[{\"type\":\"scattergl\",\"marker\":{\"colorbar\":{\"outlinewidth\":0,\"ticks\":\"\"}}}],\"scatter3d\":[{\"type\":\"scatter3d\",\"line\":{\"colorbar\":{\"outlinewidth\":0,\"ticks\":\"\"}},\"marker\":{\"colorbar\":{\"outlinewidth\":0,\"ticks\":\"\"}}}],\"scattermapbox\":[{\"type\":\"scattermapbox\",\"marker\":{\"colorbar\":{\"outlinewidth\":0,\"ticks\":\"\"}}}],\"scatterternary\":[{\"type\":\"scatterternary\",\"marker\":{\"colorbar\":{\"outlinewidth\":0,\"ticks\":\"\"}}}],\"scattercarpet\":[{\"type\":\"scattercarpet\",\"marker\":{\"colorbar\":{\"outlinewidth\":0,\"ticks\":\"\"}}}],\"carpet\":[{\"aaxis\":{\"endlinecolor\":\"#2a3f5f\",\"gridcolor\":\"white\",\"linecolor\":\"white\",\"minorgridcolor\":\"white\",\"startlinecolor\":\"#2a3f5f\"},\"baxis\":{\"endlinecolor\":\"#2a3f5f\",\"gridcolor\":\"white\",\"linecolor\":\"white\",\"minorgridcolor\":\"white\",\"startlinecolor\":\"#2a3f5f\"},\"type\":\"carpet\"}],\"table\":[{\"cells\":{\"fill\":{\"color\":\"#EBF0F8\"},\"line\":{\"color\":\"white\"}},\"header\":{\"fill\":{\"color\":\"#C8D4E3\"},\"line\":{\"color\":\"white\"}},\"type\":\"table\"}],\"barpolar\":[{\"marker\":{\"line\":{\"color\":\"#E5ECF6\",\"width\":0.5},\"pattern\":{\"fillmode\":\"overlay\",\"size\":10,\"solidity\":0.2}},\"type\":\"barpolar\"}],\"pie\":[{\"automargin\":true,\"type\":\"pie\"}]},\"layout\":{\"autotypenumbers\":\"strict\",\"colorway\":[\"#636efa\",\"#EF553B\",\"#00cc96\",\"#ab63fa\",\"#FFA15A\",\"#19d3f3\",\"#FF6692\",\"#B6E880\",\"#FF97FF\",\"#FECB52\"],\"font\":{\"color\":\"#2a3f5f\"},\"hovermode\":\"closest\",\"hoverlabel\":{\"align\":\"left\"},\"paper_bgcolor\":\"white\",\"plot_bgcolor\":\"#E5ECF6\",\"polar\":{\"bgcolor\":\"#E5ECF6\",\"angularaxis\":{\"gridcolor\":\"white\",\"linecolor\":\"white\",\"ticks\":\"\"},\"radialaxis\":{\"gridcolor\":\"white\",\"linecolor\":\"white\",\"ticks\":\"\"}},\"ternary\":{\"bgcolor\":\"#E5ECF6\",\"aaxis\":{\"gridcolor\":\"white\",\"linecolor\":\"white\",\"ticks\":\"\"},\"baxis\":{\"gridcolor\":\"white\",\"linecolor\":\"white\",\"ticks\":\"\"},\"caxis\":{\"gridcolor\":\"white\",\"linecolor\":\"white\",\"ticks\":\"\"}},\"coloraxis\":{\"colorbar\":{\"outlinewidth\":0,\"ticks\":\"\"}},\"colorscale\":{\"sequential\":[[0.0,\"#0d0887\"],[0.1111111111111111,\"#46039f\"],[0.2222222222222222,\"#7201a8\"],[0.3333333333333333,\"#9c179e\"],[0.4444444444444444,\"#bd3786\"],[0.5555555555555556,\"#d8576b\"],[0.6666666666666666,\"#ed7953\"],[0.7777777777777778,\"#fb9f3a\"],[0.8888888888888888,\"#fdca26\"],[1.0,\"#f0f921\"]],\"sequentialminus\":[[0.0,\"#0d0887\"],[0.1111111111111111,\"#46039f\"],[0.2222222222222222,\"#7201a8\"],[0.3333333333333333,\"#9c179e\"],[0.4444444444444444,\"#bd3786\"],[0.5555555555555556,\"#d8576b\"],[0.6666666666666666,\"#ed7953\"],[0.7777777777777778,\"#fb9f3a\"],[0.8888888888888888,\"#fdca26\"],[1.0,\"#f0f921\"]],\"diverging\":[[0,\"#8e0152\"],[0.1,\"#c51b7d\"],[0.2,\"#de77ae\"],[0.3,\"#f1b6da\"],[0.4,\"#fde0ef\"],[0.5,\"#f7f7f7\"],[0.6,\"#e6f5d0\"],[0.7,\"#b8e186\"],[0.8,\"#7fbc41\"],[0.9,\"#4d9221\"],[1,\"#276419\"]]},\"xaxis\":{\"gridcolor\":\"white\",\"linecolor\":\"white\",\"ticks\":\"\",\"title\":{\"standoff\":15},\"zerolinecolor\":\"white\",\"automargin\":true,\"zerolinewidth\":2},\"yaxis\":{\"gridcolor\":\"white\",\"linecolor\":\"white\",\"ticks\":\"\",\"title\":{\"standoff\":15},\"zerolinecolor\":\"white\",\"automargin\":true,\"zerolinewidth\":2},\"scene\":{\"xaxis\":{\"backgroundcolor\":\"#E5ECF6\",\"gridcolor\":\"white\",\"linecolor\":\"white\",\"showbackground\":true,\"ticks\":\"\",\"zerolinecolor\":\"white\",\"gridwidth\":2},\"yaxis\":{\"backgroundcolor\":\"#E5ECF6\",\"gridcolor\":\"white\",\"linecolor\":\"white\",\"showbackground\":true,\"ticks\":\"\",\"zerolinecolor\":\"white\",\"gridwidth\":2},\"zaxis\":{\"backgroundcolor\":\"#E5ECF6\",\"gridcolor\":\"white\",\"linecolor\":\"white\",\"showbackground\":true,\"ticks\":\"\",\"zerolinecolor\":\"white\",\"gridwidth\":2}},\"shapedefaults\":{\"line\":{\"color\":\"#2a3f5f\"}},\"annotationdefaults\":{\"arrowcolor\":\"#2a3f5f\",\"arrowhead\":0,\"arrowwidth\":1},\"geo\":{\"bgcolor\":\"white\",\"landcolor\":\"#E5ECF6\",\"subunitcolor\":\"white\",\"showland\":true,\"showlakes\":true,\"lakecolor\":\"white\"},\"title\":{\"x\":0.05},\"mapbox\":{\"style\":\"light\"}}}},                        {\"responsive\": true}                    ).then(function(){\n",
              "                            \n",
              "var gd = document.getElementById('6f30ca98-4339-4ed7-8d65-bb180d9f72d5');\n",
              "var x = new MutationObserver(function (mutations, observer) {{\n",
              "        var display = window.getComputedStyle(gd).display;\n",
              "        if (!display || display === 'none') {{\n",
              "            console.log([gd, 'removed!']);\n",
              "            Plotly.purge(gd);\n",
              "            observer.disconnect();\n",
              "        }}\n",
              "}});\n",
              "\n",
              "// Listen for the removal of the full notebook cells\n",
              "var notebookContainer = gd.closest('#notebook-container');\n",
              "if (notebookContainer) {{\n",
              "    x.observe(notebookContainer, {childList: true});\n",
              "}}\n",
              "\n",
              "// Listen for the clearing of the current output cell\n",
              "var outputEl = gd.closest('.output');\n",
              "if (outputEl) {{\n",
              "    x.observe(outputEl, {childList: true});\n",
              "}}\n",
              "\n",
              "                        })                };                            </script>        </div>\n",
              "</body>\n",
              "</html>"
            ]
          },
          "metadata": {}
        }
      ]
    },
    {
      "cell_type": "code",
      "source": [
        "y_true = 100 + 20 * np.random.randn(1000)\n",
        "y_pred = 100 + 10 * np.random.randn(1000)\n",
        "results = pd.DataFrame({'y_true' : y_true, 'y_pred' : y_pred})\n",
        "results['error'] = results['y_true'] - results['y_pred']\n",
        "\n",
        "results.head(10)"
      ],
      "metadata": {
        "colab": {
          "base_uri": "https://localhost:8080/",
          "height": 362
        },
        "id": "poktHxqhZ8Mw",
        "outputId": "876592ff-ced6-4c42-cd2d-d798290b08a1"
      },
      "execution_count": 13,
      "outputs": [
        {
          "output_type": "execute_result",
          "data": {
            "text/plain": [
              "       y_true      y_pred      error\n",
              "0  113.477343  100.224709  13.252633\n",
              "1  108.172209  120.158105 -11.985896\n",
              "2   89.846841   99.575953  -9.729112\n",
              "3   87.286561  119.544017 -32.257456\n",
              "4   99.760958   92.691652   7.069306\n",
              "5  126.459256   96.542401  29.916855\n",
              "6   64.496456   97.561326 -33.064869\n",
              "7   96.912217  108.357219 -11.445002\n",
              "8   92.403084  103.779794 -11.376710\n",
              "9  102.121178   93.896783   8.224395"
            ],
            "text/html": [
              "\n",
              "  <div id=\"df-5443c0be-3263-40c8-9668-2b283c647560\" class=\"colab-df-container\">\n",
              "    <div>\n",
              "<style scoped>\n",
              "    .dataframe tbody tr th:only-of-type {\n",
              "        vertical-align: middle;\n",
              "    }\n",
              "\n",
              "    .dataframe tbody tr th {\n",
              "        vertical-align: top;\n",
              "    }\n",
              "\n",
              "    .dataframe thead th {\n",
              "        text-align: right;\n",
              "    }\n",
              "</style>\n",
              "<table border=\"1\" class=\"dataframe\">\n",
              "  <thead>\n",
              "    <tr style=\"text-align: right;\">\n",
              "      <th></th>\n",
              "      <th>y_true</th>\n",
              "      <th>y_pred</th>\n",
              "      <th>error</th>\n",
              "    </tr>\n",
              "  </thead>\n",
              "  <tbody>\n",
              "    <tr>\n",
              "      <th>0</th>\n",
              "      <td>113.477343</td>\n",
              "      <td>100.224709</td>\n",
              "      <td>13.252633</td>\n",
              "    </tr>\n",
              "    <tr>\n",
              "      <th>1</th>\n",
              "      <td>108.172209</td>\n",
              "      <td>120.158105</td>\n",
              "      <td>-11.985896</td>\n",
              "    </tr>\n",
              "    <tr>\n",
              "      <th>2</th>\n",
              "      <td>89.846841</td>\n",
              "      <td>99.575953</td>\n",
              "      <td>-9.729112</td>\n",
              "    </tr>\n",
              "    <tr>\n",
              "      <th>3</th>\n",
              "      <td>87.286561</td>\n",
              "      <td>119.544017</td>\n",
              "      <td>-32.257456</td>\n",
              "    </tr>\n",
              "    <tr>\n",
              "      <th>4</th>\n",
              "      <td>99.760958</td>\n",
              "      <td>92.691652</td>\n",
              "      <td>7.069306</td>\n",
              "    </tr>\n",
              "    <tr>\n",
              "      <th>5</th>\n",
              "      <td>126.459256</td>\n",
              "      <td>96.542401</td>\n",
              "      <td>29.916855</td>\n",
              "    </tr>\n",
              "    <tr>\n",
              "      <th>6</th>\n",
              "      <td>64.496456</td>\n",
              "      <td>97.561326</td>\n",
              "      <td>-33.064869</td>\n",
              "    </tr>\n",
              "    <tr>\n",
              "      <th>7</th>\n",
              "      <td>96.912217</td>\n",
              "      <td>108.357219</td>\n",
              "      <td>-11.445002</td>\n",
              "    </tr>\n",
              "    <tr>\n",
              "      <th>8</th>\n",
              "      <td>92.403084</td>\n",
              "      <td>103.779794</td>\n",
              "      <td>-11.376710</td>\n",
              "    </tr>\n",
              "    <tr>\n",
              "      <th>9</th>\n",
              "      <td>102.121178</td>\n",
              "      <td>93.896783</td>\n",
              "      <td>8.224395</td>\n",
              "    </tr>\n",
              "  </tbody>\n",
              "</table>\n",
              "</div>\n",
              "    <div class=\"colab-df-buttons\">\n",
              "\n",
              "  <div class=\"colab-df-container\">\n",
              "    <button class=\"colab-df-convert\" onclick=\"convertToInteractive('df-5443c0be-3263-40c8-9668-2b283c647560')\"\n",
              "            title=\"Convert this dataframe to an interactive table.\"\n",
              "            style=\"display:none;\">\n",
              "\n",
              "  <svg xmlns=\"http://www.w3.org/2000/svg\" height=\"24px\" viewBox=\"0 -960 960 960\">\n",
              "    <path d=\"M120-120v-720h720v720H120Zm60-500h600v-160H180v160Zm220 220h160v-160H400v160Zm0 220h160v-160H400v160ZM180-400h160v-160H180v160Zm440 0h160v-160H620v160ZM180-180h160v-160H180v160Zm440 0h160v-160H620v160Z\"/>\n",
              "  </svg>\n",
              "    </button>\n",
              "\n",
              "  <style>\n",
              "    .colab-df-container {\n",
              "      display:flex;\n",
              "      gap: 12px;\n",
              "    }\n",
              "\n",
              "    .colab-df-convert {\n",
              "      background-color: #E8F0FE;\n",
              "      border: none;\n",
              "      border-radius: 50%;\n",
              "      cursor: pointer;\n",
              "      display: none;\n",
              "      fill: #1967D2;\n",
              "      height: 32px;\n",
              "      padding: 0 0 0 0;\n",
              "      width: 32px;\n",
              "    }\n",
              "\n",
              "    .colab-df-convert:hover {\n",
              "      background-color: #E2EBFA;\n",
              "      box-shadow: 0px 1px 2px rgba(60, 64, 67, 0.3), 0px 1px 3px 1px rgba(60, 64, 67, 0.15);\n",
              "      fill: #174EA6;\n",
              "    }\n",
              "\n",
              "    .colab-df-buttons div {\n",
              "      margin-bottom: 4px;\n",
              "    }\n",
              "\n",
              "    [theme=dark] .colab-df-convert {\n",
              "      background-color: #3B4455;\n",
              "      fill: #D2E3FC;\n",
              "    }\n",
              "\n",
              "    [theme=dark] .colab-df-convert:hover {\n",
              "      background-color: #434B5C;\n",
              "      box-shadow: 0px 1px 3px 1px rgba(0, 0, 0, 0.15);\n",
              "      filter: drop-shadow(0px 1px 2px rgba(0, 0, 0, 0.3));\n",
              "      fill: #FFFFFF;\n",
              "    }\n",
              "  </style>\n",
              "\n",
              "    <script>\n",
              "      const buttonEl =\n",
              "        document.querySelector('#df-5443c0be-3263-40c8-9668-2b283c647560 button.colab-df-convert');\n",
              "      buttonEl.style.display =\n",
              "        google.colab.kernel.accessAllowed ? 'block' : 'none';\n",
              "\n",
              "      async function convertToInteractive(key) {\n",
              "        const element = document.querySelector('#df-5443c0be-3263-40c8-9668-2b283c647560');\n",
              "        const dataTable =\n",
              "          await google.colab.kernel.invokeFunction('convertToInteractive',\n",
              "                                                    [key], {});\n",
              "        if (!dataTable) return;\n",
              "\n",
              "        const docLinkHtml = 'Like what you see? Visit the ' +\n",
              "          '<a target=\"_blank\" href=https://colab.research.google.com/notebooks/data_table.ipynb>data table notebook</a>'\n",
              "          + ' to learn more about interactive tables.';\n",
              "        element.innerHTML = '';\n",
              "        dataTable['output_type'] = 'display_data';\n",
              "        await google.colab.output.renderOutput(dataTable, element);\n",
              "        const docLink = document.createElement('div');\n",
              "        docLink.innerHTML = docLinkHtml;\n",
              "        element.appendChild(docLink);\n",
              "      }\n",
              "    </script>\n",
              "  </div>\n",
              "\n",
              "\n",
              "    <div id=\"df-41dcccce-8ebe-4721-a712-d5e57637c04a\">\n",
              "      <button class=\"colab-df-quickchart\" onclick=\"quickchart('df-41dcccce-8ebe-4721-a712-d5e57637c04a')\"\n",
              "                title=\"Suggest charts\"\n",
              "                style=\"display:none;\">\n",
              "\n",
              "<svg xmlns=\"http://www.w3.org/2000/svg\" height=\"24px\"viewBox=\"0 0 24 24\"\n",
              "     width=\"24px\">\n",
              "    <g>\n",
              "        <path d=\"M19 3H5c-1.1 0-2 .9-2 2v14c0 1.1.9 2 2 2h14c1.1 0 2-.9 2-2V5c0-1.1-.9-2-2-2zM9 17H7v-7h2v7zm4 0h-2V7h2v10zm4 0h-2v-4h2v4z\"/>\n",
              "    </g>\n",
              "</svg>\n",
              "      </button>\n",
              "\n",
              "<style>\n",
              "  .colab-df-quickchart {\n",
              "      --bg-color: #E8F0FE;\n",
              "      --fill-color: #1967D2;\n",
              "      --hover-bg-color: #E2EBFA;\n",
              "      --hover-fill-color: #174EA6;\n",
              "      --disabled-fill-color: #AAA;\n",
              "      --disabled-bg-color: #DDD;\n",
              "  }\n",
              "\n",
              "  [theme=dark] .colab-df-quickchart {\n",
              "      --bg-color: #3B4455;\n",
              "      --fill-color: #D2E3FC;\n",
              "      --hover-bg-color: #434B5C;\n",
              "      --hover-fill-color: #FFFFFF;\n",
              "      --disabled-bg-color: #3B4455;\n",
              "      --disabled-fill-color: #666;\n",
              "  }\n",
              "\n",
              "  .colab-df-quickchart {\n",
              "    background-color: var(--bg-color);\n",
              "    border: none;\n",
              "    border-radius: 50%;\n",
              "    cursor: pointer;\n",
              "    display: none;\n",
              "    fill: var(--fill-color);\n",
              "    height: 32px;\n",
              "    padding: 0;\n",
              "    width: 32px;\n",
              "  }\n",
              "\n",
              "  .colab-df-quickchart:hover {\n",
              "    background-color: var(--hover-bg-color);\n",
              "    box-shadow: 0 1px 2px rgba(60, 64, 67, 0.3), 0 1px 3px 1px rgba(60, 64, 67, 0.15);\n",
              "    fill: var(--button-hover-fill-color);\n",
              "  }\n",
              "\n",
              "  .colab-df-quickchart-complete:disabled,\n",
              "  .colab-df-quickchart-complete:disabled:hover {\n",
              "    background-color: var(--disabled-bg-color);\n",
              "    fill: var(--disabled-fill-color);\n",
              "    box-shadow: none;\n",
              "  }\n",
              "\n",
              "  .colab-df-spinner {\n",
              "    border: 2px solid var(--fill-color);\n",
              "    border-color: transparent;\n",
              "    border-bottom-color: var(--fill-color);\n",
              "    animation:\n",
              "      spin 1s steps(1) infinite;\n",
              "  }\n",
              "\n",
              "  @keyframes spin {\n",
              "    0% {\n",
              "      border-color: transparent;\n",
              "      border-bottom-color: var(--fill-color);\n",
              "      border-left-color: var(--fill-color);\n",
              "    }\n",
              "    20% {\n",
              "      border-color: transparent;\n",
              "      border-left-color: var(--fill-color);\n",
              "      border-top-color: var(--fill-color);\n",
              "    }\n",
              "    30% {\n",
              "      border-color: transparent;\n",
              "      border-left-color: var(--fill-color);\n",
              "      border-top-color: var(--fill-color);\n",
              "      border-right-color: var(--fill-color);\n",
              "    }\n",
              "    40% {\n",
              "      border-color: transparent;\n",
              "      border-right-color: var(--fill-color);\n",
              "      border-top-color: var(--fill-color);\n",
              "    }\n",
              "    60% {\n",
              "      border-color: transparent;\n",
              "      border-right-color: var(--fill-color);\n",
              "    }\n",
              "    80% {\n",
              "      border-color: transparent;\n",
              "      border-right-color: var(--fill-color);\n",
              "      border-bottom-color: var(--fill-color);\n",
              "    }\n",
              "    90% {\n",
              "      border-color: transparent;\n",
              "      border-bottom-color: var(--fill-color);\n",
              "    }\n",
              "  }\n",
              "</style>\n",
              "\n",
              "      <script>\n",
              "        async function quickchart(key) {\n",
              "          const quickchartButtonEl =\n",
              "            document.querySelector('#' + key + ' button');\n",
              "          quickchartButtonEl.disabled = true;  // To prevent multiple clicks.\n",
              "          quickchartButtonEl.classList.add('colab-df-spinner');\n",
              "          try {\n",
              "            const charts = await google.colab.kernel.invokeFunction(\n",
              "                'suggestCharts', [key], {});\n",
              "          } catch (error) {\n",
              "            console.error('Error during call to suggestCharts:', error);\n",
              "          }\n",
              "          quickchartButtonEl.classList.remove('colab-df-spinner');\n",
              "          quickchartButtonEl.classList.add('colab-df-quickchart-complete');\n",
              "        }\n",
              "        (() => {\n",
              "          let quickchartButtonEl =\n",
              "            document.querySelector('#df-41dcccce-8ebe-4721-a712-d5e57637c04a button');\n",
              "          quickchartButtonEl.style.display =\n",
              "            google.colab.kernel.accessAllowed ? 'block' : 'none';\n",
              "        })();\n",
              "      </script>\n",
              "    </div>\n",
              "\n",
              "    </div>\n",
              "  </div>\n"
            ],
            "application/vnd.google.colaboratory.intrinsic+json": {
              "type": "dataframe",
              "variable_name": "results",
              "summary": "{\n  \"name\": \"results\",\n  \"rows\": 1000,\n  \"fields\": [\n    {\n      \"column\": \"y_true\",\n      \"properties\": {\n        \"dtype\": \"number\",\n        \"std\": 19.912346117022892,\n        \"min\": 37.748490735444264,\n        \"max\": 163.85874290685052,\n        \"num_unique_values\": 1000,\n        \"samples\": [\n          107.79339174629524,\n          100.45394871426763,\n          103.66173871703549\n        ],\n        \"semantic_type\": \"\",\n        \"description\": \"\"\n      }\n    },\n    {\n      \"column\": \"y_pred\",\n      \"properties\": {\n        \"dtype\": \"number\",\n        \"std\": 9.995119872122295,\n        \"min\": 65.60714941416379,\n        \"max\": 130.96562875828852,\n        \"num_unique_values\": 1000,\n        \"samples\": [\n          103.39599115529504,\n          92.4187961817053,\n          100.1527197093776\n        ],\n        \"semantic_type\": \"\",\n        \"description\": \"\"\n      }\n    },\n    {\n      \"column\": \"error\",\n      \"properties\": {\n        \"dtype\": \"number\",\n        \"std\": 22.80765392147202,\n        \"min\": -66.03139176393536,\n        \"max\": 62.90450234752234,\n        \"num_unique_values\": 1000,\n        \"samples\": [\n          4.397400591000206,\n          8.035152532562321,\n          3.5090190076578835\n        ],\n        \"semantic_type\": \"\",\n        \"description\": \"\"\n      }\n    }\n  ]\n}"
            }
          },
          "metadata": {},
          "execution_count": 13
        }
      ]
    },
    {
      "cell_type": "code",
      "source": [
        "px.histogram(results, x = 'error', nbins = 50, width = 600)"
      ],
      "metadata": {
        "colab": {
          "base_uri": "https://localhost:8080/",
          "height": 542
        },
        "id": "KxLeYsttan4c",
        "outputId": "a1d5c7ec-7b8b-4480-b577-dec35cb2b470"
      },
      "execution_count": 14,
      "outputs": [
        {
          "output_type": "display_data",
          "data": {
            "text/html": [
              "<html>\n",
              "<head><meta charset=\"utf-8\" /></head>\n",
              "<body>\n",
              "    <div>            <script src=\"https://cdnjs.cloudflare.com/ajax/libs/mathjax/2.7.5/MathJax.js?config=TeX-AMS-MML_SVG\"></script><script type=\"text/javascript\">if (window.MathJax && window.MathJax.Hub && window.MathJax.Hub.Config) {window.MathJax.Hub.Config({SVG: {font: \"STIX-Web\"}});}</script>                <script type=\"text/javascript\">window.PlotlyConfig = {MathJaxConfig: 'local'};</script>\n",
              "        <script charset=\"utf-8\" src=\"https://cdn.plot.ly/plotly-2.35.2.min.js\"></script>                <div id=\"081f1977-76c9-4613-893e-2c50d38be37d\" class=\"plotly-graph-div\" style=\"height:525px; width:600px;\"></div>            <script type=\"text/javascript\">                                    window.PLOTLYENV=window.PLOTLYENV || {};                                    if (document.getElementById(\"081f1977-76c9-4613-893e-2c50d38be37d\")) {                    Plotly.newPlot(                        \"081f1977-76c9-4613-893e-2c50d38be37d\",                        [{\"alignmentgroup\":\"True\",\"bingroup\":\"x\",\"hovertemplate\":\"error=%{x}\\u003cbr\\u003ecount=%{y}\\u003cextra\\u003e\\u003c\\u002fextra\\u003e\",\"legendgroup\":\"\",\"marker\":{\"color\":\"#636efa\",\"pattern\":{\"shape\":\"\"}},\"name\":\"\",\"nbinsx\":50,\"offsetgroup\":\"\",\"orientation\":\"v\",\"showlegend\":false,\"x\":[13.252633447245287,-11.985895551528287,-9.729111983793487,-32.2574561571256,7.069305929421674,29.91685468825976,-33.06486912322235,-11.445001650574511,-11.376710034786399,8.224394806925673,-13.367512238095244,33.58677011026771,59.04664808613241,8.197717911595007,17.59511100370814,-40.24576245184184,48.14139460347455,17.539395302336388,-1.2755718983978568,21.72260449998653,-0.37774902229062945,2.4008881093132857,-27.75834103213525,-12.38842083701725,-25.002299312690468,-22.770918833031217,10.96572891763276,19.09992383182825,-11.658604119453841,5.020654180155333,-24.884047463398005,-25.732758532681615,35.46879976082991,-19.401890288670344,-20.14579611825961,27.23521603264328,-0.770707437572483,1.4171451143114382,-10.790870909519796,8.222325264453886,-24.17720403304594,6.623433820803683,14.33346696966666,-27.063302791788928,9.738983600548053,-15.673753864157504,20.207003085366523,6.78207478483381,-27.34720385869805,-31.3867792505757,-3.8113381585357615,-0.9858719843315384,-6.30341850321706,8.065766169329507,-45.575895340519324,-2.0405418917133176,4.650163309093244,-21.195844038127106,5.406513355987968,-18.806529979787854,-44.88839199565149,-7.6225410281787305,-2.5846337442987277,23.286390759580883,-2.9376982849641564,10.361459471446565,9.287243296113715,44.0272872363677,-29.955828082054765,-31.021644806625346,10.421322860999851,-18.540757853507813,-0.7527769490807685,-7.027740652776856,-37.00364133922599,-34.780217575060476,5.691380884913414,-32.73045142447481,-15.754817636212678,-14.53249272833584,42.628586038984366,-6.220654443196025,-13.512378101837996,0.725777297871204,4.253176799903898,-25.208357205861034,-10.121142966068732,8.923594860684545,6.137357868309252,19.901131968265815,17.202645351541207,32.20916342896504,-35.82794708493518,38.581214890611875,-32.53615326857616,-49.037512177124846,-23.596689993110076,-26.00242797397857,3.8860210831762743,-1.8660114920471926,11.055071613452341,-21.708575835095743,-21.163579485185323,-16.701466148061385,-3.0558258194212016,-25.546642777252174,-6.263373882158632,-36.9529539808228,-21.902414529777417,-6.799236463066009,-26.079735394715144,-1.903281798343528,-12.942708329079863,-4.856264351258844,8.969802402146172,20.65988339970059,48.002115599771514,-10.24700148384548,18.075746505360144,-18.05278846419901,25.101721680470007,-0.8354088039723138,-52.735581349311474,-15.539855593280365,25.14622042275191,3.3397373403512205,28.30660973972836,23.056813460717947,-30.27863108611197,5.995681207774126,52.74485043091707,-18.433999890232784,-6.924701676453822,53.29411207930137,-25.84218731919104,-8.014030278103945,21.421938803277584,16.11553235473548,-37.28684532567361,5.499885419024309,30.987971177809996,9.841514455482411,-21.319610385385033,-17.755014412333892,-6.6833856771373945,-43.13096265398559,25.02030653767504,-1.5874776560871453,-12.08643169671194,-4.08499892767324,-16.647184793680864,-9.469246912391242,16.63800078827903,0.704914171742999,-2.261294293829451,-5.268640116416748,-4.270875276428129,-31.760741414088002,3.6930481977647958,9.596674013796559,-14.478819270037917,-4.170767395969477,-43.46028213075853,25.306534129911313,-12.670890094120168,-34.181291546906365,33.28835898278517,-1.1916894046423323,30.106307522456447,-50.199418001817826,37.35599376004515,-39.88650344658818,0.7684804930667042,-9.89427288570306,-11.197018721609012,-2.1723217293758523,26.792468502659048,6.789483039658293,-4.201878027839157,-26.76115410408937,6.554498663398334,-18.286377817954886,8.462916447158065,-4.752232871872664,-14.955127073568363,-3.0584873906680627,16.049224138970345,-31.48173123630619,14.270350168829125,50.76355739216726,15.305820095207167,-31.148651632742755,-26.76097748826534,-22.892569634060436,6.878138032369137,-49.10009766721912,25.454529284113093,7.6887698013110395,5.4491518660916825,-2.438108283959025,12.488001014421798,-6.750641861459613,-31.616099054090185,18.955317630932612,8.639385533876435,-2.8245850758039666,8.949050155434989,1.920374077787585,-3.531154674517424,16.89332629505755,-27.545393261985197,23.72781148154536,17.542882014617447,26.439750609559923,-24.650161033910535,-11.57689784154455,-8.209036080905278,5.635443410396448,27.183425367276257,-8.734079368233537,-25.518881337079847,35.69511694577622,-11.322884999692107,-39.49542344134662,18.52703344446394,46.21693416442584,-16.444623208577113,51.15402438134349,-3.124932563623105,6.7973312253828055,7.945115990019929,-24.63626239899078,-22.132498356323012,-9.645142444209185,48.538730027469896,10.033959452266586,8.5103355057837,44.380397772354684,-7.607041954330839,0.4827599727395153,19.360103180023074,0.9756998395938155,24.84422336380422,-38.487272478876775,8.348075071765322,8.402329795056673,24.995202959529877,24.390749566071065,-34.61193882537188,41.037275247261405,-19.37208050312428,-13.778258590783139,14.804030678349221,20.400849514199066,17.487791942775246,28.05300374449081,28.90451074997719,-16.18631704696743,43.383967899681366,-15.738377875474512,36.68797373956798,46.89518559961792,16.133912718350757,-16.254708358155867,37.10573391833691,4.0617760264292855,25.11948749345494,27.042312077402997,-29.01740798505962,-10.546293379682893,-54.08701186030445,12.868258481084212,-15.497114600405055,-0.4732244856750185,28.04793172595332,43.90765336211186,-20.95119604030218,-26.477406812023744,15.643014299533945,15.298763285895262,-14.634326238847223,1.7791943727381607,-14.743146195143666,-8.645984075897374,-4.180612547408444,-41.645937504715505,-17.05577111923398,10.545789588979346,-4.369301795196037,9.810605726543542,10.156436370844233,-10.714733210446695,-20.976241301286407,39.56592409272048,50.81107264681597,-26.034622756672846,24.139226648605614,7.4248926502220485,-35.58540898708418,12.642121714208628,32.05687755254621,-29.951803346294327,-12.623846817577387,-23.644931864031392,-25.136244222215495,-10.727415242729919,20.751212960416026,0.3683354108072905,-15.100129891460412,4.1710446464856545,-16.506258533152348,34.907674653618486,5.320322030814182,10.772721127026912,35.48921988664851,-17.12600034406381,-30.383492374294036,28.074288654800156,21.6333120445519,26.437503458082602,11.056474748238657,-12.185867919838842,-23.113288947287714,10.745382198077564,-10.853976165035746,22.70852948267786,-8.643616687362154,1.1280539485791223,8.50310675645646,-26.93619510974365,1.4481060740297522,18.915779579299553,1.8041941685887224,-5.615028727285576,35.060917570137974,50.90285840648259,12.438485448563654,10.219357510736174,-2.9917860885169603,-1.9574974615396883,1.7293842643486528,10.942734438172536,-21.417548935693887,19.84035202441973,-6.994175485827185,-26.1393798472467,-21.740775503350832,-31.815102506827188,-56.12965996928519,4.897268589544012,-14.39864039155431,3.7341277174844123,25.016959408405313,2.004265095330368,8.401941124559329,10.2556977010953,-20.143564666435466,18.583861087807435,-2.3886091781423318,12.04268421243593,18.782639825305736,8.426036921006599,11.378912595975109,43.56458908723553,-4.438139519400423,-17.455754526376523,9.377478800762574,-7.710019208267909,50.12488682647371,2.5629664953025753,13.567371510675613,-3.732333033498918,-8.801348755379905,1.8162212160483477,-2.694724204290395,-1.0236991761461525,-36.9183305433682,8.457743445977187,-27.339308916874757,-30.14881179066056,24.261710131059132,32.62564083944106,-20.85339591559716,-4.509003697779946,-0.6273844317102544,39.280954925254036,23.62531171503099,-18.325669538844153,-14.231633951620836,-0.5419150053079136,-9.18429863021288,-31.70197888861,-21.570249121738385,5.452958080404727,11.31175726853759,5.436263069349991,43.49976491043729,3.432172956851744,32.40131082917132,1.8972256438912325,-25.025593867233397,-33.51891900118693,-39.05951863350872,-2.1868424066297933,18.284049176853955,-37.95735912243106,0.7788994461113674,14.612414972305046,-5.6244999682873384,-7.413504794956864,-6.394788662283418,21.73817658662206,23.128652838901303,-33.78694884923114,-6.9297786437169435,2.106329344002063,53.888802713178805,18.724393512321768,4.489745215111881,20.062726842347146,-22.816651137748394,1.3017656955659476,25.727404732273726,-12.190788842304784,-17.835821411294077,-20.631175901809712,2.5503988330490017,-4.856841523219799,24.34726960868896,52.666973784143124,-6.059860681822855,-15.907103328323018,22.831895050636106,-3.9137562907010732,18.032740549017745,-1.7919233563146548,34.39384379243893,22.1031327662282,-7.886237193998639,13.316060486270956,-15.626866261672745,-28.10492783491118,-47.200543473626894,-1.1965563923115639,44.811442363310775,-25.43326731798676,11.1010143730458,-2.847737194710234,22.04489200321524,-1.655098874011074,-13.208283310319999,-12.53832921456015,0.5912761924036687,-20.782830455151,5.038406861281928,-17.69768207413773,-53.129356797430745,14.353554141668809,25.92264277529702,32.67124248314158,-14.680642177600333,13.564718018347335,15.626585154147506,-55.276644899991794,26.875325054423612,9.044228691927643,2.0765684643614435,10.605723812321926,1.03218282812567,42.700806270434356,-3.0224436794238017,-29.703098650609448,-30.05834012601519,-1.734111969854439,-18.07750843507104,8.629411522694184,22.043332819883858,-15.544448403199183,-16.715084951072555,-18.937785743384424,-2.071254988832976,-4.117150863639154,-1.496634495769186,0.9824586734594618,24.107618662379835,-21.977350268468456,-0.6973911462988838,23.47107553545672,4.871702064768485,-25.762461477659883,17.59616130947697,22.82375498317117,18.755540091710344,-49.07827970892266,-33.909159859538306,19.148488662391074,-6.566198252933816,0.8712765626411851,-25.980092050015088,6.072865600756813,12.412813907786258,-15.78556427059776,2.4832142123302674,-43.499129280451925,-4.492334593343713,10.33911122370057,17.33194035765493,10.96273018152668,19.74550374558342,-17.76534561927103,-16.625668902754285,-61.15211200429897,18.68912836648491,-6.9797372984311465,11.056851894638484,23.930763761049263,12.767516787928386,-21.121573466178177,-1.6494353577768948,-2.4961754955031523,3.5691396821378305,4.397400591000206,-37.07958611101657,-5.211360734881012,0.3731287336097182,-27.429197858647925,2.4546934709190964,-7.205753327094982,24.86971461531884,-20.313758956549904,3.8818881974258375,4.468867593769545,-7.820486561447183,-13.634893616922469,2.2904865530610152,-26.065218001907724,-5.45800892107691,-8.670609282596303,31.539053031527004,45.093773472077515,-0.7057705310471363,3.1619158153461626,29.874544225198065,10.102359530436587,14.743135163445103,18.315180725663225,7.598501815086166,15.966466826245309,34.56621265129088,-31.524720749053927,-33.6550852433909,-55.22392919741686,-22.735035331259084,27.42353621948996,36.277283437904245,-3.7497202167949553,9.612861497270046,-34.440673317019204,-14.478901454466921,-51.14897351003563,-8.324304454192585,1.0152128238916305,-12.988815813569147,1.3726256893602766,7.718571030689901,15.85526765636439,23.986565322320786,-2.7129395044706115,3.7391509460169488,24.600645799221596,-24.34451956236275,5.3916007639283805,15.751212826423242,-45.05890783809585,-20.21183562309176,34.67331454580696,28.48316825492097,-41.02990918949858,-5.5803784972681285,5.134136396674265,-15.964010816043427,31.340884986142655,25.31413634215764,50.43286623673856,-22.608005259137386,47.90076368174252,-48.427453584447626,-54.989285883474714,-32.56516743378761,-45.675902552397666,19.235683681422728,4.294063673126644,19.169916184226693,-27.3492484681868,8.12661126968321,-10.850857809350984,-24.47392742576082,-11.861320198619595,18.79296565972787,-26.214493382647532,-48.25773681419767,-20.715776129835874,7.655178230526019,-14.159814680931646,-20.10415509465524,49.094561339113525,11.271430854824132,19.47153619740621,-29.561123507712097,34.919702476146185,-7.19060123462144,3.439494425604437,-20.107452398177045,44.83038665935098,-6.282767022229422,-19.1611211592204,13.289512447527613,-3.103442904952672,20.454909789276925,-8.837573713244566,37.444778156727125,12.620128332700773,16.855273431118746,27.937593553783344,8.570000402156538,6.805646828159311,-42.002458065797455,7.314750415694476,-6.5822328231027,-13.896073998256512,-5.576782203628497,-33.89683607619048,8.373968027730143,20.267708030137825,-31.81956353121889,-3.7376510913261995,21.36679662641049,-11.66622954726546,-0.010015051601712344,28.68224737665369,2.6705979686314123,12.427860158842577,7.791356274560087,26.75276778590741,-7.618326233984945,-0.8871387621403812,-4.469225281031484,25.178115497539295,23.453500804822667,-6.125212055167452,17.070799560833535,-16.203402492171563,-45.804278258194785,15.353187642479384,19.310091219713826,-3.328142069382139,-2.4751551313446356,-0.23405802958465927,15.878835077680264,-9.287083485473303,-20.52009086099841,13.287722655632223,22.498278015440377,19.513349486867583,-33.005118545970234,3.9885111876311896,-13.209452888067261,17.6004229955048,-35.82581738189042,10.906501247986583,2.0746092444555018,0.7678392276817476,-12.572102726441045,5.111489943684944,10.103589503901247,17.943778931911453,15.790260305390461,13.64506968645506,-16.57793813285477,6.195522233141276,0.6006363251676845,62.90450234752234,3.3533303994368424,-13.666129635926154,-10.392655631035112,-31.521606063965578,-25.701397434199478,8.090576041234598,36.02196000308041,-12.688013350863116,0.46949931929157174,-31.159100934989922,-12.53705784463402,-17.27028603672767,25.465125416228588,15.870964077343828,17.19355640708109,13.355616149517331,-9.312955814187845,15.321087361206821,26.7174343154592,15.911790803962177,-2.556288549791134,-4.568215624597201,12.28990456520063,-4.942451358464112,-47.532469441745214,19.017161846194142,-35.814823136611466,6.635879326010198,51.29410630531078,-27.023288741659428,0.6330665772229622,2.2731953592303427,6.968732689530071,52.39316124245262,24.371505681292035,-18.03019707253749,9.88715804032617,-19.29988498971028,-4.270450715761626,-4.12991632696334,6.903513113295233,25.197011389698517,31.671787643367423,-5.636132698283404,25.29314668207023,-8.394337800843445,19.373004490772303,-8.69922046516993,9.840533242913637,33.34907414366006,-8.217889358163958,34.290670065518285,-45.34654726846361,-51.00520649450651,-3.8658527681756425,8.035152532562321,-66.03139176393536,-14.42011531488373,3.5090190076578835,-16.498225924502023,50.23498686161767,45.338334929821144,-13.270913209713626,25.826748518247157,1.4672964369523527,8.076892070073939,-1.648736772774356,-37.20249371313645,21.37960990385136,15.78611681538193,8.436383169355793,-25.684612111162252,-12.431238965275085,-2.3759720580991797,6.960180414869612,-28.157480486009078,1.4326894525275975,-20.0003664225799,17.604320351501585,23.763647089585646,-21.447166340482013,29.186145806370405,0.744212947865563,46.61378708842514,37.927165191202235,-11.608434480163382,-30.59299679483422,10.017356961895473,6.888299604005766,36.933488002028184,-4.537926743794003,23.052622542785087,20.48670288549326,2.0354726690115257,8.959247457916604,13.751028249367366,4.027217492693765,-18.668741054882418,45.70069661548612,-6.900807976835878,-6.364383082861423,-19.734754752536162,1.7932516394534588,-20.816502720758706,-21.9503852200598,-15.783308258848919,4.885885126459456,-10.029320063299593,25.355957567283582,-33.73586013981539,1.5818807153690386,3.4345243153049125,-2.8524142277250633,11.877460984937159,-13.247032426459228,-17.67320816896867,34.549223505756004,-48.144656488851,17.34527799198689,7.208113175400072,-17.185295647118068,-0.62458284318555,6.941599803621742,14.548062183338388,-14.220012916886859,-3.8877357719773613,-24.08114458930926,-34.64462302248407,-27.529535608143576,-14.344504890435587,-7.308733902251589,25.19199171185727,-3.2928352866976383,3.8159428340627244,13.600484172734681,28.187907815488273,-8.778974239783665,-0.8009708413853645,-32.491544032871744,-15.549527695657787,-27.278308547249267,0.8823882571187767,-5.1137605526303105,-2.0080994612578706,22.91404147988142,-0.7003101951430324,-15.280104640741001,-6.276733335173034,15.294030911277574,1.487697680067626,-6.691362093365484,-26.40026622966711,7.918184154903614,-7.557174080967783,20.900519518357783,-16.929640700282278,26.88966626515979,-63.10940997594608,61.59126237699343,-11.671216880477928,37.73530105739205,38.6974181423941,32.64014002437422,35.33052880489939,-26.84452331943909,7.968895970655893,-8.590131998145651,1.0403131848897544,22.96229131064284,-9.30250244373417,-17.07704024100991,5.92128996309323,-48.13345440269972,57.52339223200383,45.502086139589636,12.307860132475682,-9.909653464979229,-10.347971191606675,-21.67275046031206,5.283793154394317,8.79784075228369,49.296478128334286,-1.8073751573827224,-15.065179524505353,-8.955847223477207,-4.144711610430932,6.703724976288839,-50.52045594360801,6.308376837991631,-2.412696156420992,12.268615715201435,-18.793964549362045,17.317510813560276,-28.319826065337978,1.569747227812556,58.89353037104627,12.060184882564442,33.459173769108205,17.690386860609337,-17.787553137537287,16.53780208106072,-8.754440841026152,-1.539590049056045,17.057115784764207,-16.0034611341991,9.2353134403143,7.162740438550202,-8.347573265212759,7.464374528436437,19.169119337696188,27.488171053755508,30.038154988362507,-1.8749425787843563,-20.23308349678217,18.584890682304376,10.382657289611942,28.668028649802494,5.262495972683894,-13.65162692263469,30.85533011301972,45.156679210396135,-42.42157702919526,34.86305584966226,4.245336636221424,-9.262396397861067,12.871859898927966,1.694155635662426,-22.807879836891118,-19.671757721007182,26.127558307821488,-7.151335721208952,8.017163615434,-25.214238693195064,6.432956041006477,13.283064823242995,16.90981140405131,2.983945709873808,-30.659254895211276,1.350350010833921,-3.6857901978603707,-17.17708855771842,20.767075050904708,-58.743869065511944,-58.95232413988818,6.6124664895232,-12.299547495789696,-9.899379741136542,-20.14188585212389,17.822816434680462,20.87871101101132,-39.8842992679684,-7.340390973580256,1.860106950084628,14.045595791589122,-18.197825135616995,-23.183565801476234,-18.156321999067444,-14.667579128552475,8.961662447151966,26.999377016865722,26.514128425146254,4.992020966875387,-34.420479670735475,26.865729686278883,-21.533483562490673,-5.977430673717379,-5.209403434708605,13.23601715732795,-14.204749998477567,-0.1817834173866686,32.857113935951205,-14.91111196115213,38.37907770040135,-14.354258142342829,4.951191940387204,5.821365862842839,-14.370320200706615,-24.34141295332678,-37.12972985490353,-3.4353543402303472,-33.01842281066567,-0.4323447929389488,28.620483553016214,-22.996012666251204,-1.799233082680317,44.56706798831145,21.93634112740868,54.94928270227474,24.492377206738595,-27.508148809491217,6.644479292520828,-25.19784501949144,15.562794088764932,-5.137761121965255,2.0478160810876176,-11.574160391040266,-17.92066734750169,20.90197335842427,37.26131428345289,6.573301773385481,29.560240934277147,41.68048352287886,5.408268661027904,-6.428405354256327,19.716064722629483,9.985257281676681,6.635742179252247,-1.0395818453811643,-10.469599032483956,-7.839062613005282,6.565777040326367,-17.906965665424423,3.4656728760298847,-14.432166135032745,-19.02780641013061,-14.853663013563747,-23.881387067873803,2.306570513576247],\"xaxis\":\"x\",\"yaxis\":\"y\",\"type\":\"histogram\"}],                        {\"template\":{\"data\":{\"histogram2dcontour\":[{\"type\":\"histogram2dcontour\",\"colorbar\":{\"outlinewidth\":0,\"ticks\":\"\"},\"colorscale\":[[0.0,\"#0d0887\"],[0.1111111111111111,\"#46039f\"],[0.2222222222222222,\"#7201a8\"],[0.3333333333333333,\"#9c179e\"],[0.4444444444444444,\"#bd3786\"],[0.5555555555555556,\"#d8576b\"],[0.6666666666666666,\"#ed7953\"],[0.7777777777777778,\"#fb9f3a\"],[0.8888888888888888,\"#fdca26\"],[1.0,\"#f0f921\"]]}],\"choropleth\":[{\"type\":\"choropleth\",\"colorbar\":{\"outlinewidth\":0,\"ticks\":\"\"}}],\"histogram2d\":[{\"type\":\"histogram2d\",\"colorbar\":{\"outlinewidth\":0,\"ticks\":\"\"},\"colorscale\":[[0.0,\"#0d0887\"],[0.1111111111111111,\"#46039f\"],[0.2222222222222222,\"#7201a8\"],[0.3333333333333333,\"#9c179e\"],[0.4444444444444444,\"#bd3786\"],[0.5555555555555556,\"#d8576b\"],[0.6666666666666666,\"#ed7953\"],[0.7777777777777778,\"#fb9f3a\"],[0.8888888888888888,\"#fdca26\"],[1.0,\"#f0f921\"]]}],\"heatmap\":[{\"type\":\"heatmap\",\"colorbar\":{\"outlinewidth\":0,\"ticks\":\"\"},\"colorscale\":[[0.0,\"#0d0887\"],[0.1111111111111111,\"#46039f\"],[0.2222222222222222,\"#7201a8\"],[0.3333333333333333,\"#9c179e\"],[0.4444444444444444,\"#bd3786\"],[0.5555555555555556,\"#d8576b\"],[0.6666666666666666,\"#ed7953\"],[0.7777777777777778,\"#fb9f3a\"],[0.8888888888888888,\"#fdca26\"],[1.0,\"#f0f921\"]]}],\"heatmapgl\":[{\"type\":\"heatmapgl\",\"colorbar\":{\"outlinewidth\":0,\"ticks\":\"\"},\"colorscale\":[[0.0,\"#0d0887\"],[0.1111111111111111,\"#46039f\"],[0.2222222222222222,\"#7201a8\"],[0.3333333333333333,\"#9c179e\"],[0.4444444444444444,\"#bd3786\"],[0.5555555555555556,\"#d8576b\"],[0.6666666666666666,\"#ed7953\"],[0.7777777777777778,\"#fb9f3a\"],[0.8888888888888888,\"#fdca26\"],[1.0,\"#f0f921\"]]}],\"contourcarpet\":[{\"type\":\"contourcarpet\",\"colorbar\":{\"outlinewidth\":0,\"ticks\":\"\"}}],\"contour\":[{\"type\":\"contour\",\"colorbar\":{\"outlinewidth\":0,\"ticks\":\"\"},\"colorscale\":[[0.0,\"#0d0887\"],[0.1111111111111111,\"#46039f\"],[0.2222222222222222,\"#7201a8\"],[0.3333333333333333,\"#9c179e\"],[0.4444444444444444,\"#bd3786\"],[0.5555555555555556,\"#d8576b\"],[0.6666666666666666,\"#ed7953\"],[0.7777777777777778,\"#fb9f3a\"],[0.8888888888888888,\"#fdca26\"],[1.0,\"#f0f921\"]]}],\"surface\":[{\"type\":\"surface\",\"colorbar\":{\"outlinewidth\":0,\"ticks\":\"\"},\"colorscale\":[[0.0,\"#0d0887\"],[0.1111111111111111,\"#46039f\"],[0.2222222222222222,\"#7201a8\"],[0.3333333333333333,\"#9c179e\"],[0.4444444444444444,\"#bd3786\"],[0.5555555555555556,\"#d8576b\"],[0.6666666666666666,\"#ed7953\"],[0.7777777777777778,\"#fb9f3a\"],[0.8888888888888888,\"#fdca26\"],[1.0,\"#f0f921\"]]}],\"mesh3d\":[{\"type\":\"mesh3d\",\"colorbar\":{\"outlinewidth\":0,\"ticks\":\"\"}}],\"scatter\":[{\"fillpattern\":{\"fillmode\":\"overlay\",\"size\":10,\"solidity\":0.2},\"type\":\"scatter\"}],\"parcoords\":[{\"type\":\"parcoords\",\"line\":{\"colorbar\":{\"outlinewidth\":0,\"ticks\":\"\"}}}],\"scatterpolargl\":[{\"type\":\"scatterpolargl\",\"marker\":{\"colorbar\":{\"outlinewidth\":0,\"ticks\":\"\"}}}],\"bar\":[{\"error_x\":{\"color\":\"#2a3f5f\"},\"error_y\":{\"color\":\"#2a3f5f\"},\"marker\":{\"line\":{\"color\":\"#E5ECF6\",\"width\":0.5},\"pattern\":{\"fillmode\":\"overlay\",\"size\":10,\"solidity\":0.2}},\"type\":\"bar\"}],\"scattergeo\":[{\"type\":\"scattergeo\",\"marker\":{\"colorbar\":{\"outlinewidth\":0,\"ticks\":\"\"}}}],\"scatterpolar\":[{\"type\":\"scatterpolar\",\"marker\":{\"colorbar\":{\"outlinewidth\":0,\"ticks\":\"\"}}}],\"histogram\":[{\"marker\":{\"pattern\":{\"fillmode\":\"overlay\",\"size\":10,\"solidity\":0.2}},\"type\":\"histogram\"}],\"scattergl\":[{\"type\":\"scattergl\",\"marker\":{\"colorbar\":{\"outlinewidth\":0,\"ticks\":\"\"}}}],\"scatter3d\":[{\"type\":\"scatter3d\",\"line\":{\"colorbar\":{\"outlinewidth\":0,\"ticks\":\"\"}},\"marker\":{\"colorbar\":{\"outlinewidth\":0,\"ticks\":\"\"}}}],\"scattermapbox\":[{\"type\":\"scattermapbox\",\"marker\":{\"colorbar\":{\"outlinewidth\":0,\"ticks\":\"\"}}}],\"scatterternary\":[{\"type\":\"scatterternary\",\"marker\":{\"colorbar\":{\"outlinewidth\":0,\"ticks\":\"\"}}}],\"scattercarpet\":[{\"type\":\"scattercarpet\",\"marker\":{\"colorbar\":{\"outlinewidth\":0,\"ticks\":\"\"}}}],\"carpet\":[{\"aaxis\":{\"endlinecolor\":\"#2a3f5f\",\"gridcolor\":\"white\",\"linecolor\":\"white\",\"minorgridcolor\":\"white\",\"startlinecolor\":\"#2a3f5f\"},\"baxis\":{\"endlinecolor\":\"#2a3f5f\",\"gridcolor\":\"white\",\"linecolor\":\"white\",\"minorgridcolor\":\"white\",\"startlinecolor\":\"#2a3f5f\"},\"type\":\"carpet\"}],\"table\":[{\"cells\":{\"fill\":{\"color\":\"#EBF0F8\"},\"line\":{\"color\":\"white\"}},\"header\":{\"fill\":{\"color\":\"#C8D4E3\"},\"line\":{\"color\":\"white\"}},\"type\":\"table\"}],\"barpolar\":[{\"marker\":{\"line\":{\"color\":\"#E5ECF6\",\"width\":0.5},\"pattern\":{\"fillmode\":\"overlay\",\"size\":10,\"solidity\":0.2}},\"type\":\"barpolar\"}],\"pie\":[{\"automargin\":true,\"type\":\"pie\"}]},\"layout\":{\"autotypenumbers\":\"strict\",\"colorway\":[\"#636efa\",\"#EF553B\",\"#00cc96\",\"#ab63fa\",\"#FFA15A\",\"#19d3f3\",\"#FF6692\",\"#B6E880\",\"#FF97FF\",\"#FECB52\"],\"font\":{\"color\":\"#2a3f5f\"},\"hovermode\":\"closest\",\"hoverlabel\":{\"align\":\"left\"},\"paper_bgcolor\":\"white\",\"plot_bgcolor\":\"#E5ECF6\",\"polar\":{\"bgcolor\":\"#E5ECF6\",\"angularaxis\":{\"gridcolor\":\"white\",\"linecolor\":\"white\",\"ticks\":\"\"},\"radialaxis\":{\"gridcolor\":\"white\",\"linecolor\":\"white\",\"ticks\":\"\"}},\"ternary\":{\"bgcolor\":\"#E5ECF6\",\"aaxis\":{\"gridcolor\":\"white\",\"linecolor\":\"white\",\"ticks\":\"\"},\"baxis\":{\"gridcolor\":\"white\",\"linecolor\":\"white\",\"ticks\":\"\"},\"caxis\":{\"gridcolor\":\"white\",\"linecolor\":\"white\",\"ticks\":\"\"}},\"coloraxis\":{\"colorbar\":{\"outlinewidth\":0,\"ticks\":\"\"}},\"colorscale\":{\"sequential\":[[0.0,\"#0d0887\"],[0.1111111111111111,\"#46039f\"],[0.2222222222222222,\"#7201a8\"],[0.3333333333333333,\"#9c179e\"],[0.4444444444444444,\"#bd3786\"],[0.5555555555555556,\"#d8576b\"],[0.6666666666666666,\"#ed7953\"],[0.7777777777777778,\"#fb9f3a\"],[0.8888888888888888,\"#fdca26\"],[1.0,\"#f0f921\"]],\"sequentialminus\":[[0.0,\"#0d0887\"],[0.1111111111111111,\"#46039f\"],[0.2222222222222222,\"#7201a8\"],[0.3333333333333333,\"#9c179e\"],[0.4444444444444444,\"#bd3786\"],[0.5555555555555556,\"#d8576b\"],[0.6666666666666666,\"#ed7953\"],[0.7777777777777778,\"#fb9f3a\"],[0.8888888888888888,\"#fdca26\"],[1.0,\"#f0f921\"]],\"diverging\":[[0,\"#8e0152\"],[0.1,\"#c51b7d\"],[0.2,\"#de77ae\"],[0.3,\"#f1b6da\"],[0.4,\"#fde0ef\"],[0.5,\"#f7f7f7\"],[0.6,\"#e6f5d0\"],[0.7,\"#b8e186\"],[0.8,\"#7fbc41\"],[0.9,\"#4d9221\"],[1,\"#276419\"]]},\"xaxis\":{\"gridcolor\":\"white\",\"linecolor\":\"white\",\"ticks\":\"\",\"title\":{\"standoff\":15},\"zerolinecolor\":\"white\",\"automargin\":true,\"zerolinewidth\":2},\"yaxis\":{\"gridcolor\":\"white\",\"linecolor\":\"white\",\"ticks\":\"\",\"title\":{\"standoff\":15},\"zerolinecolor\":\"white\",\"automargin\":true,\"zerolinewidth\":2},\"scene\":{\"xaxis\":{\"backgroundcolor\":\"#E5ECF6\",\"gridcolor\":\"white\",\"linecolor\":\"white\",\"showbackground\":true,\"ticks\":\"\",\"zerolinecolor\":\"white\",\"gridwidth\":2},\"yaxis\":{\"backgroundcolor\":\"#E5ECF6\",\"gridcolor\":\"white\",\"linecolor\":\"white\",\"showbackground\":true,\"ticks\":\"\",\"zerolinecolor\":\"white\",\"gridwidth\":2},\"zaxis\":{\"backgroundcolor\":\"#E5ECF6\",\"gridcolor\":\"white\",\"linecolor\":\"white\",\"showbackground\":true,\"ticks\":\"\",\"zerolinecolor\":\"white\",\"gridwidth\":2}},\"shapedefaults\":{\"line\":{\"color\":\"#2a3f5f\"}},\"annotationdefaults\":{\"arrowcolor\":\"#2a3f5f\",\"arrowhead\":0,\"arrowwidth\":1},\"geo\":{\"bgcolor\":\"white\",\"landcolor\":\"#E5ECF6\",\"subunitcolor\":\"white\",\"showland\":true,\"showlakes\":true,\"lakecolor\":\"white\"},\"title\":{\"x\":0.05},\"mapbox\":{\"style\":\"light\"}}},\"xaxis\":{\"anchor\":\"y\",\"domain\":[0.0,1.0],\"title\":{\"text\":\"error\"}},\"yaxis\":{\"anchor\":\"x\",\"domain\":[0.0,1.0],\"title\":{\"text\":\"count\"}},\"legend\":{\"tracegroupgap\":0},\"margin\":{\"t\":60},\"barmode\":\"relative\",\"width\":600},                        {\"responsive\": true}                    ).then(function(){\n",
              "                            \n",
              "var gd = document.getElementById('081f1977-76c9-4613-893e-2c50d38be37d');\n",
              "var x = new MutationObserver(function (mutations, observer) {{\n",
              "        var display = window.getComputedStyle(gd).display;\n",
              "        if (!display || display === 'none') {{\n",
              "            console.log([gd, 'removed!']);\n",
              "            Plotly.purge(gd);\n",
              "            observer.disconnect();\n",
              "        }}\n",
              "}});\n",
              "\n",
              "// Listen for the removal of the full notebook cells\n",
              "var notebookContainer = gd.closest('#notebook-container');\n",
              "if (notebookContainer) {{\n",
              "    x.observe(notebookContainer, {childList: true});\n",
              "}}\n",
              "\n",
              "// Listen for the clearing of the current output cell\n",
              "var outputEl = gd.closest('.output');\n",
              "if (outputEl) {{\n",
              "    x.observe(outputEl, {childList: true});\n",
              "}}\n",
              "\n",
              "                        })                };                            </script>        </div>\n",
              "</body>\n",
              "</html>"
            ]
          },
          "metadata": {}
        }
      ]
    },
    {
      "cell_type": "markdown",
      "source": [
        "Mean absolute error MAE"
      ],
      "metadata": {
        "id": "OFf1v45ka-OG"
      }
    },
    {
      "cell_type": "code",
      "source": [
        "def mean_absolute_error(y_true, y_pred):\n",
        "    return abs(y_true - y_pred).sum()/len(y_true)\n",
        "\n",
        "mean_absolute_error(y_true, y_pred)"
      ],
      "metadata": {
        "colab": {
          "base_uri": "https://localhost:8080/"
        },
        "id": "breZfnQ7awCG",
        "outputId": "f3bcb3e5-278e-466c-80da-f6f961817e95"
      },
      "execution_count": 15,
      "outputs": [
        {
          "output_type": "execute_result",
          "data": {
            "text/plain": [
              "np.float64(18.118975189973895)"
            ]
          },
          "metadata": {},
          "execution_count": 15
        }
      ]
    },
    {
      "cell_type": "code",
      "source": [
        "from sklearn.metrics import mean_absolute_error\n",
        "mean_absolute_error(y_true, y_pred)"
      ],
      "metadata": {
        "colab": {
          "base_uri": "https://localhost:8080/"
        },
        "id": "pF4wEztxbQto",
        "outputId": "6145cb41-317c-4644-d844-e6b4b0b44467"
      },
      "execution_count": 16,
      "outputs": [
        {
          "output_type": "execute_result",
          "data": {
            "text/plain": [
              "18.118975189973895"
            ]
          },
          "metadata": {},
          "execution_count": 16
        }
      ]
    },
    {
      "cell_type": "markdown",
      "source": [
        "MSE Mean Squared Error"
      ],
      "metadata": {
        "id": "1A6cLlwObYw8"
      }
    },
    {
      "cell_type": "code",
      "source": [
        "def mean_square_error(y_true, y_pred):\n",
        "    return pow(abs(y_true - y_pred),2).sum()/len(y_true)\n",
        "\n",
        "mean_square_error(y_true, y_pred)"
      ],
      "metadata": {
        "colab": {
          "base_uri": "https://localhost:8080/"
        },
        "id": "iZ_2lF7ZbXrG",
        "outputId": "0a1050f2-07a4-4d5d-bab8-d1ad5de3dbeb"
      },
      "execution_count": 18,
      "outputs": [
        {
          "output_type": "execute_result",
          "data": {
            "text/plain": [
              "np.float64(519.713766803197)"
            ]
          },
          "metadata": {},
          "execution_count": 18
        }
      ]
    },
    {
      "cell_type": "code",
      "source": [
        "from sklearn.metrics import mean_squared_error\n",
        "mean_squared_error(y_true, y_pred)"
      ],
      "metadata": {
        "colab": {
          "base_uri": "https://localhost:8080/"
        },
        "id": "MDgFWtH-bjBY",
        "outputId": "4b14f35b-253c-48fd-b6b8-d5895ca43d2f"
      },
      "execution_count": 19,
      "outputs": [
        {
          "output_type": "execute_result",
          "data": {
            "text/plain": [
              "519.713766803197"
            ]
          },
          "metadata": {},
          "execution_count": 19
        }
      ]
    },
    {
      "cell_type": "markdown",
      "source": [
        "RMSE"
      ],
      "metadata": {
        "id": "oNEj6kyVbqCQ"
      }
    },
    {
      "cell_type": "code",
      "source": [
        "def root_mean_square_error(y_true, y_pred):\n",
        "    return np.sqrt(pow(abs(y_true - y_pred),2).sum()/len(y_true))\n",
        "\n",
        "root_mean_square_error(y_true, y_pred)"
      ],
      "metadata": {
        "colab": {
          "base_uri": "https://localhost:8080/"
        },
        "id": "JGYtzAvzbhLU",
        "outputId": "82f02a3f-ff34-4198-dc8f-2d476306f7b8"
      },
      "execution_count": 20,
      "outputs": [
        {
          "output_type": "execute_result",
          "data": {
            "text/plain": [
              "np.float64(22.797231560064414)"
            ]
          },
          "metadata": {},
          "execution_count": 20
        }
      ]
    },
    {
      "cell_type": "code",
      "source": [
        "from sklearn.metrics import root_mean_squared_error\n",
        "root_mean_squared_error(y_true, y_pred)"
      ],
      "metadata": {
        "colab": {
          "base_uri": "https://localhost:8080/"
        },
        "id": "tms8aeHybyoB",
        "outputId": "d2730fbf-1930-483a-a11d-6c265ca54c34"
      },
      "execution_count": 21,
      "outputs": [
        {
          "output_type": "execute_result",
          "data": {
            "text/plain": [
              "22.797231560064414"
            ]
          },
          "metadata": {},
          "execution_count": 21
        }
      ]
    },
    {
      "cell_type": "markdown",
      "source": [
        "Max Error"
      ],
      "metadata": {
        "id": "G2rMdJ9Qb6vD"
      }
    },
    {
      "cell_type": "code",
      "source": [
        "def max_error(y_true, y_pred):\n",
        "    return abs(y_true - y_pred).max()\n",
        "\n",
        "max_error(y_true, y_pred)"
      ],
      "metadata": {
        "colab": {
          "base_uri": "https://localhost:8080/"
        },
        "id": "3v9X6jLgb2hz",
        "outputId": "7b6363f3-9508-4142-bb4b-730fcb65112a"
      },
      "execution_count": 23,
      "outputs": [
        {
          "output_type": "execute_result",
          "data": {
            "text/plain": [
              "np.float64(66.03139176393536)"
            ]
          },
          "metadata": {},
          "execution_count": 23
        }
      ]
    },
    {
      "cell_type": "code",
      "source": [
        "from sklearn.metrics import max_error\n",
        "max_error(y_true, y_pred)"
      ],
      "metadata": {
        "colab": {
          "base_uri": "https://localhost:8080/"
        },
        "id": "4vCrmVzHcFxU",
        "outputId": "a50ba46b-b461-4fd9-b793-6b43a2309ffe"
      },
      "execution_count": 24,
      "outputs": [
        {
          "output_type": "execute_result",
          "data": {
            "text/plain": [
              "np.float64(66.03139176393536)"
            ]
          },
          "metadata": {},
          "execution_count": 24
        }
      ]
    },
    {
      "cell_type": "markdown",
      "source": [
        "R2_score"
      ],
      "metadata": {
        "id": "phf5NEUncOE_"
      }
    },
    {
      "cell_type": "code",
      "source": [
        "from sklearn.metrics import r2_score\n",
        "r2_score(y_true, y_pred)"
      ],
      "metadata": {
        "colab": {
          "base_uri": "https://localhost:8080/"
        },
        "id": "hXBLDLFicPsk",
        "outputId": "390126be-eb5e-4fd3-a801-dae3942d3e69"
      },
      "execution_count": 29,
      "outputs": [
        {
          "output_type": "execute_result",
          "data": {
            "text/plain": [
              "-0.3120605198677744"
            ]
          },
          "metadata": {},
          "execution_count": 29
        }
      ]
    },
    {
      "cell_type": "code",
      "source": [
        "def r2_score3(y_true, y_pred):\n",
        "    try:\n",
        "      r2 = 1 - pow((y_true - y_pred), 2).sum() / pow((y_true - y_true.mean()), 2).sum()\n",
        "    except ZeroDivisionError:\n",
        "      print('Dzielenie przez 0')\n",
        "    return r2\n",
        "r2_score3(y_true, y_pred)"
      ],
      "metadata": {
        "colab": {
          "base_uri": "https://localhost:8080/"
        },
        "id": "7wlBpwMqcWzz",
        "outputId": "400c597a-57df-4e87-b175-00dda158f85c"
      },
      "execution_count": 31,
      "outputs": [
        {
          "output_type": "execute_result",
          "data": {
            "text/plain": [
              "np.float64(-0.3120605198677744)"
            ]
          },
          "metadata": {},
          "execution_count": 31
        }
      ]
    },
    {
      "cell_type": "code",
      "source": [],
      "metadata": {
        "id": "u0wXygJ3cpz3"
      },
      "execution_count": null,
      "outputs": []
    }
  ]
}